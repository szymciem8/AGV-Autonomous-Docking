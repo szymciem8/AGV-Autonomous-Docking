{
 "cells": [
  {
   "cell_type": "markdown",
   "metadata": {},
   "source": [
    "# Create proper dataset for learning"
   ]
  },
  {
   "cell_type": "markdown",
   "metadata": {},
   "source": [
    "Out of many different CSV files record parametres of the platform during docking, only valueble information has to be extracted. \n",
    "Those informations are:\n",
    "- Distance form the wall\n",
    "- Rotation\n",
    "- Distance setpoint\n",
    "- Distance needed for docking\n",
    "- Time of docking\n",
    "- Base speed"
   ]
  },
  {
   "cell_type": "code",
   "execution_count": 1,
   "metadata": {},
   "outputs": [],
   "source": [
    "import os\n",
    "import pandas as pd\n",
    "import csv\n",
    "import numpy as np\n",
    "import random"
   ]
  },
  {
   "cell_type": "code",
   "execution_count": 4,
   "metadata": {},
   "outputs": [],
   "source": [
    "file = 'ride_5'\n",
    "path = '../scripts/logs/500_2/' + file + '.csv'\n",
    "\n",
    "df_procedure = pd.read_csv(path, skiprows=[0,1,2, 3], names=['time[s]',\n",
    "                                                          'front[mm]', \n",
    "                                                          'rear[mm]', \n",
    "                                                          'PID Align setpoint', \n",
    "                                                          'PID Distance setpoint', \n",
    "                                                          'error[mm]', \n",
    "                                                          'angle[rad]', \n",
    "                                                          'distance[mm]', \n",
    "                                                          'rw_speed[rad/s]', \n",
    "                                                          'lw_speeed[rad/s]', \n",
    "                                                          'pozyx_x_1', \n",
    "                                                          'pozyx_y_1',\n",
    "                                                          'pozyx_rot_y_1', \n",
    "                                                          'pozyx_x_2',\n",
    "                                                          'pozyx_y_2',\n",
    "                                                          'pozyx_rot_2'\n",
    "                                                        ])\n",
    "df_single = pd.read_csv(path, skiprows=lambda x: x>2, index_col=0, header=None).T\n"
   ]
  },
  {
   "cell_type": "code",
   "execution_count": 8,
   "metadata": {},
   "outputs": [
    {
     "name": "stdout",
     "output_type": "stream",
     "text": [
      "        time[s]  front[mm]  rear[mm]  PID Align setpoint  \\\n",
      "0  1.644503e+09      195.0     204.0           -0.156344   \n",
      "1  1.644503e+09      195.0     204.0           -0.148911   \n",
      "2  1.644503e+09      197.0     204.0           -0.148000   \n",
      "3  1.644503e+09      202.0     204.0           -0.148000   \n",
      "4  1.644503e+09      202.0     202.0           -0.148000   \n",
      "\n",
      "   PID Distance setpoint  error[mm]  angle[rad]  distance[mm]  \\\n",
      "0                  500.0        9.0    0.046121    343.655573   \n",
      "1                  500.0        9.0    0.046121    351.089227   \n",
      "2                  500.0        7.0    0.035882    352.000000   \n",
      "3                  500.0        2.0    0.010256    352.000000   \n",
      "4                  500.0        0.0    0.000000    352.000000   \n",
      "\n",
      "   rw_speed[rad/s]  lw_speeed[rad/s]  pozyx_x_1  pozyx_y_1  pozyx_rot_y_1  \\\n",
      "0              0.0               0.0      1.757       1.35      -0.169922   \n",
      "1              0.0               0.0      1.757       1.35      -0.169922   \n",
      "2              0.0               0.0      1.757       1.35      -0.169922   \n",
      "3              0.0               0.0      1.757       1.35      -0.169922   \n",
      "4              0.0               0.0      1.757       1.35      -0.169922   \n",
      "\n",
      "   pozyx_x_2  pozyx_y_2  pozyx_rot_2  \n",
      "0      1.757       1.35    -0.169922  \n",
      "1      1.757       1.35    -0.169922  \n",
      "2      1.757       1.35    -0.169922  \n",
      "3      1.757       1.35    -0.169922  \n",
      "4      1.757       1.35    -0.169922  \n"
     ]
    }
   ],
   "source": [
    "print(df_procedure.head())"
   ]
  },
  {
   "cell_type": "code",
   "execution_count": 10,
   "metadata": {},
   "outputs": [
    {
     "name": "stdout",
     "output_type": "stream",
     "text": [
      "base_speed=2.5,front_sensor=195.0, rear_sensor=204.0, pid_align_setpoint=-0.1563444273730264, pid_distance_setpoint=500.0, error=9.0, angle=0.0461211160145112, distance=343.6555726269736, docking_time=18.49069333076477, docking_distance=2431.0\n"
     ]
    }
   ],
   "source": [
    "base_speed = df_single.iloc[0,2]\n",
    "\n",
    "# Procdure\n",
    "front_sensor = df_procedure.iloc[0, 1]\n",
    "rear_sensor = df_procedure.iloc[0, 2]\n",
    "pid_align_setpoint = df_procedure.iloc[0, 3]\n",
    "pid_distance_setpoint = df_procedure.iloc[0, 4]\n",
    "error = df_procedure.iloc[0, 5]\n",
    "angle = df_procedure.iloc[0, 6]\n",
    "distance = df_procedure.iloc[0, 7]\n",
    "\n",
    "# Single\n",
    "docking_time = df_single.iloc[0,0]\n",
    "docking_distance = df_single.iloc[0,1]\n",
    "\n",
    "row = [base_speed,\n",
    "       front_sensor,\n",
    "       rear_sensor, \n",
    "       pid_align_setpoint, \n",
    "       pid_distance_setpoint,\n",
    "       error, \n",
    "       angle, \n",
    "       distance,\n",
    "       docking_time, \n",
    "       docking_distance\n",
    "       ]\n",
    "\n",
    "print(f'{base_speed=},{front_sensor=}, {rear_sensor=}, {pid_align_setpoint=}, {pid_distance_setpoint=}, {error=}, {angle=}, {distance=}, {docking_time=}, {docking_distance=}')"
   ]
  },
  {
   "cell_type": "code",
   "execution_count": 2,
   "metadata": {},
   "outputs": [],
   "source": [
    "def clear_data(df):\n",
    "        start_time = df.iloc[0,7]\n",
    "        df = df[df['distance[mm]'] > 150.0]\n",
    "        df['time[s]'] = df['time[s]'] - start_time\n",
    "        df = df.apply(pd.to_numeric)\n",
    "\n",
    "        return df"
   ]
  },
  {
   "cell_type": "code",
   "execution_count": 18,
   "metadata": {},
   "outputs": [],
   "source": [
    "path = 'training_data_2.csv'"
   ]
  },
  {
   "cell_type": "code",
   "execution_count": 12,
   "metadata": {},
   "outputs": [],
   "source": [
    "path = 'extended_training_data_2.csv'"
   ]
  },
  {
   "cell_type": "code",
   "execution_count": 13,
   "metadata": {},
   "outputs": [],
   "source": [
    "def add_noise(value):\n",
    "    value += np.random.normal(0, 1) * value/100\n",
    "    return value"
   ]
  },
  {
   "cell_type": "code",
   "execution_count": 14,
   "metadata": {},
   "outputs": [
    {
     "data": {
      "text/plain": [
       "0.9939767975405991"
      ]
     },
     "execution_count": 14,
     "metadata": {},
     "output_type": "execute_result"
    }
   ],
   "source": [
    "add_noise(1)"
   ]
  },
  {
   "cell_type": "code",
   "execution_count": 20,
   "metadata": {},
   "outputs": [
    {
     "name": "stdout",
     "output_type": "stream",
     "text": [
      "[2.5, 103.0, 98.0, -0.2458527631418588, 500.0, -5.0, -0.0256354085216774, 254.1472368581412, 10.419591426849363, 1355.0]\n",
      "[2.5, 679.0, 692.0, 0.3, 500.0, 13.0, 0.0665681637758238, 811.6792369444722, 9.662449836730955, 1320.0]\n",
      "[2.5, 439.0, 439.0, 0.0855461467153579, 500.0, 0.0, 0.0, 585.546146715358, 6.75080156326294, 870.0]\n",
      "3\n",
      "[2.5, 522.0, 526.0, 0.1692721603430832, 500.0, 4.0, 0.0205099441394465, 669.2721603430832, 9.610530138015749, 1200.0]\n",
      "[2.5, 195.0, 204.0, -0.1563444273730264, 500.0, 9.0, 0.0461211160145112, 343.6555726269736, 18.49069333076477, 2431.0]\n",
      "[2.5, 659.0, 668.0, 0.3, 500.0, 9.0, 0.0461211160145112, 800.9993109335679, 10.292529344558716, 1377.0]\n",
      "7\n",
      "[2.5, 270.0, 259.0, -0.0721497243110861, 500.0, -11.0, -0.0563505357126421, 427.8502756889139, 5.187043905258179, 641.0]\n",
      "[2.5, 520.0, 527.0, 0.1640088275786613, 500.0, 7.0, 0.0358820283531573, 664.0088275786613, 7.082317590713501, 908.0]\n",
      "[2.5, 752.0, 763.0, 0.3, 500.0, 11.0, 0.0563505357126421, 885.4320020129604, 14.484589338302612, 1823.0]\n",
      "[2.5, 363.0, 289.0, 0.0, 500.0, -74.0, -0.3626988206610193, 511.9041670944473, 18.679047107696533, 2523.0]\n",
      "[2.5, 415.0, 352.0, 0.0613885571994302, 500.0, -63.0, -0.3124915597345191, 561.3885571994302, 19.20320844650269, 2508.0]\n",
      "[2.5, 255.0, 171.0, -0.0945279836754612, 500.0, -84.0, -0.4067470717259709, 405.4720163245388, 4.700476169586182, 565.0]\n",
      "[2.5, 226.0, 130.0, -0.1201263695341182, 500.0, -96.0, -0.4574748478960251, 379.8736304658818, 19.62804746627808, 2558.0]\n",
      "[2.5, 807.0, 897.0, 0.3, 500.0, 90.0, 0.4324077755705379, 840.1495696439641, 22.482165575027462, 2696.0]\n",
      "[2.5, 615.0, 669.0, 0.2144354337204183, 500.0, 54.0, 0.270153199711405, 714.4354337204184, 16.84796667098999, 2450.0]\n",
      "[2.5, 183.0, 124.0, -0.165536302310724, 500.0, -59.0, -0.2938075188738025, 334.46369768927593, 5.105826139450073, 635.0]\n",
      "[2.5, 570.0, 515.0, 0.2166474919799688, 500.0, -55.0, -0.2749098414806725, 716.6474919799689, 19.876843452453613, 2640.0]\n",
      "[2.5, 480.0, 550.0, 0.069054236536504, 500.0, 70.0, 0.3446473156180262, 569.054236536504, 4.189300298690796, 470.0]\n",
      "[2.5, 156.0, 192.0, -0.2015739228394881, 500.0, 36.0, 0.1825598531309068, 298.42607716051185, 21.65635347366333, 3889.0]\n",
      "[2.5, 314.0, 232.0, 0.0, 500.0, -82.0, -0.3980638352881161, 462.3995579235536, 3.889923334121704, 460.0]\n",
      "[2.5, 554.0, 514.0, 0.2111008672450763, 500.0, -40.0, -0.2023216283783037, 711.1008672450763, 14.671271085739136, 1875.0]\n",
      "[2.5, 462.0, 396.0, 0.1042495873733522, 500.0, -66.0, -0.3263588167067627, 604.2495873733523, 20.39794969558716, 2710.0]\n",
      "24\n"
     ]
    }
   ],
   "source": [
    "f = open(path, 'w')\n",
    "writer = csv.writer(f)\n",
    "\n",
    "\n",
    "writer.writerow(['base_speed',\n",
    "                'front[mm]', \n",
    "                'rear[mm]', \n",
    "                'PID Align setpoint', \n",
    "                'PID Distance setpoint', \n",
    "                'error[mm]', \n",
    "                'angle[rad]', \n",
    "                'distance[mm]', \n",
    "                'docking_time', \n",
    "                'docking_distance'\n",
    "            ])\n",
    "\n",
    "\n",
    "for n in range(25):\n",
    "\n",
    "    try:\n",
    "        file = 'ride_' + str(n)  + '.csv'\n",
    "        path = '../scripts/logs/500_2/' + file\n",
    "\n",
    "\n",
    "        df_procedure = pd.read_csv(path, skiprows=[0,1,2, 3], names=['time[s]',\n",
    "                                                          'front[mm]', \n",
    "                                                          'rear[mm]', \n",
    "                                                          'PID Align setpoint', \n",
    "                                                          'PID Distance setpoint', \n",
    "                                                          'error[mm]', \n",
    "                                                          'angle[rad]', \n",
    "                                                          'distance[mm]', \n",
    "                                                          'rw_speed[rad/s]', \n",
    "                                                          'lw_speeed[rad/s]', \n",
    "                                                          'pozyx_x_1', \n",
    "                                                          'pozyx_y_1',\n",
    "                                                          'pozyx_rot_y_1', \n",
    "                                                          'pozyx_x_2',\n",
    "                                                          'pozyx_y_2',\n",
    "                                                          'pozyx_rot_2'\n",
    "                                                        ])\n",
    "        df_single = pd.read_csv(path, skiprows=lambda x: x>2, index_col=0, header=None).T\n",
    "\n",
    "        base_speed = df_single.iloc[0,2]\n",
    "\n",
    "        # Procdure\n",
    "        front_sensor = df_procedure.iloc[0, 1]\n",
    "        rear_sensor = df_procedure.iloc[0, 2]\n",
    "        pid_align_setpoint = df_procedure.iloc[0, 3]\n",
    "        pid_distance_setpoint = df_procedure.iloc[0, 4]\n",
    "        error = df_procedure.iloc[0, 5]\n",
    "        angle = df_procedure.iloc[0, 6]\n",
    "        distance = df_procedure.iloc[0, 7]\n",
    "\n",
    "        # Single\n",
    "        docking_time = df_single.iloc[0,0]\n",
    "        docking_distance = df_single.iloc[0,1]\n",
    "\n",
    "        row = [base_speed,\n",
    "            front_sensor,\n",
    "            rear_sensor, \n",
    "            pid_align_setpoint, \n",
    "            pid_distance_setpoint,\n",
    "            error, \n",
    "            angle, \n",
    "            distance,\n",
    "            docking_time, \n",
    "            docking_distance\n",
    "            ]\n",
    "\n",
    "        print(row)\n",
    "        writer.writerow(row)\n",
    "    except:\n",
    "        print(n)\n",
    "\n",
    "\n",
    "f.close()"
   ]
  },
  {
   "cell_type": "code",
   "execution_count": 235,
   "metadata": {},
   "outputs": [
    {
     "name": "stderr",
     "output_type": "stream",
     "text": [
      "/tmp/ipykernel_37068/3733329275.py:4: SettingWithCopyWarning: \n",
      "A value is trying to be set on a copy of a slice from a DataFrame.\n",
      "Try using .loc[row_indexer,col_indexer] = value instead\n",
      "\n",
      "See the caveats in the documentation: https://pandas.pydata.org/pandas-docs/stable/user_guide/indexing.html#returning-a-view-versus-a-copy\n",
      "  df['time[s]'] = df['time[s]'] - start_time\n"
     ]
    },
    {
     "name": "stdout",
     "output_type": "stream",
     "text": [
      "18\n",
      "26\n",
      "27\n",
      "48\n"
     ]
    }
   ],
   "source": [
    "path = 'extended_training_data.csv'\n",
    "f = open(path, 'w')\n",
    "writer = csv.writer(f)\n",
    "\n",
    "\n",
    "writer.writerow(['base_speed',\n",
    "                 'distance_from_wall', \n",
    "                 'rotation_angle', \n",
    "                 'distance_setpoint', \n",
    "                 'docking_time', \n",
    "                 'docking_distance'])\n",
    "\n",
    "\n",
    "for n in range(49):\n",
    "\n",
    "    try:\n",
    "        file = 'ride_' + str(n)  + '.csv'\n",
    "        path = '../scripts/logs/measurements/' + file\n",
    "        df = pd.read_csv(path)\n",
    "\n",
    "        docking_time = df.iloc[-3,1]\n",
    "        docking_distance = df.iloc[-2,1]\n",
    "        base_speed = df.iloc[-1,1]\n",
    "        df = clear_data(df)\n",
    "        distance_from_wall = df.iloc[0,6]\n",
    "        rotation_angle = df.iloc[0, 5]\n",
    "        distance_setpoint = df.iloc[0,3]\n",
    "\n",
    "        for m in range(100):\n",
    "\n",
    "            row = [base_speed,\n",
    "            add_noise(distance_from_wall),\n",
    "            add_noise(rotation_angle), \n",
    "            distance_setpoint, \n",
    "            add_noise(docking_time), \n",
    "            add_noise(docking_distance)]\n",
    "\n",
    "            # print(row)\n",
    "            writer.writerow(row)\n",
    "    except:\n",
    "        print(n)\n",
    "\n",
    "\n",
    "f.close()"
   ]
  }
 ],
 "metadata": {
  "interpreter": {
   "hash": "916dbcbb3f70747c44a77c7bcd40155683ae19c65e1c03b4aa3499c5328201f1"
  },
  "kernelspec": {
   "display_name": "Python 3.8.10 64-bit",
   "language": "python",
   "name": "python3"
  },
  "language_info": {
   "codemirror_mode": {
    "name": "ipython",
    "version": 3
   },
   "file_extension": ".py",
   "mimetype": "text/x-python",
   "name": "python",
   "nbconvert_exporter": "python",
   "pygments_lexer": "ipython3",
   "version": "3.8.10"
  },
  "orig_nbformat": 4
 },
 "nbformat": 4,
 "nbformat_minor": 2
}
