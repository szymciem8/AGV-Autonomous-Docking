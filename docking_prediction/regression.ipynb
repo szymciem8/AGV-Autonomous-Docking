{
 "cells": [
  {
   "cell_type": "code",
   "execution_count": 1,
   "metadata": {},
   "outputs": [
    {
     "name": "stdout",
     "output_type": "stream",
     "text": [
      "Defaulting to user installation because normal site-packages is not writeable\n",
      "Requirement already satisfied: seaborn in /home/ubuntu/.local/lib/python3.8/site-packages (0.11.2)\n",
      "Requirement already satisfied: numpy>=1.15 in /home/ubuntu/.local/lib/python3.8/site-packages (from seaborn) (1.19.5)\n",
      "Requirement already satisfied: pandas>=0.23 in /home/ubuntu/.local/lib/python3.8/site-packages (from seaborn) (1.3.4)\n",
      "Requirement already satisfied: matplotlib>=2.2 in /home/ubuntu/.local/lib/python3.8/site-packages (from seaborn) (3.4.3)\n",
      "Requirement already satisfied: scipy>=1.0 in /home/ubuntu/.local/lib/python3.8/site-packages (from seaborn) (1.7.1)\n",
      "Requirement already satisfied: cycler>=0.10 in /home/ubuntu/.local/lib/python3.8/site-packages (from matplotlib>=2.2->seaborn) (0.10.0)\n",
      "Requirement already satisfied: kiwisolver>=1.0.1 in /home/ubuntu/.local/lib/python3.8/site-packages (from matplotlib>=2.2->seaborn) (1.3.2)\n",
      "Requirement already satisfied: pillow>=6.2.0 in /usr/lib/python3/dist-packages (from matplotlib>=2.2->seaborn) (7.0.0)\n",
      "Requirement already satisfied: python-dateutil>=2.7 in /usr/lib/python3/dist-packages (from matplotlib>=2.2->seaborn) (2.7.3)\n",
      "Requirement already satisfied: pyparsing>=2.2.1 in /home/ubuntu/.local/lib/python3.8/site-packages (from matplotlib>=2.2->seaborn) (2.4.7)\n",
      "Requirement already satisfied: pytz>=2017.3 in /usr/lib/python3/dist-packages (from pandas>=0.23->seaborn) (2019.3)\n",
      "Requirement already satisfied: six in /home/ubuntu/.local/lib/python3.8/site-packages (from cycler>=0.10->matplotlib>=2.2->seaborn) (1.15.0)\n"
     ]
    }
   ],
   "source": [
    "!pip install seaborn"
   ]
  },
  {
   "cell_type": "code",
   "execution_count": 2,
   "metadata": {},
   "outputs": [],
   "source": [
    "import matplotlib.pyplot as plt\n",
    "import numpy as np\n",
    "import pandas as pd\n",
    "import seaborn as sns\n",
    "\n",
    "np.set_printoptions(precision=3, suppress=True)"
   ]
  },
  {
   "cell_type": "code",
   "execution_count": 3,
   "metadata": {},
   "outputs": [
    {
     "name": "stderr",
     "output_type": "stream",
     "text": [
      "2022-01-21 11:29:41.977091: W tensorflow/stream_executor/platform/default/dso_loader.cc:64] Could not load dynamic library 'libcudart.so.11.0'; dlerror: libcudart.so.11.0: cannot open shared object file: No such file or directory; LD_LIBRARY_PATH: /home/ubuntu/catkin_ws/devel/lib:/opt/ros/noetic/lib\n",
      "2022-01-21 11:29:41.977120: I tensorflow/stream_executor/cuda/cudart_stub.cc:29] Ignore above cudart dlerror if you do not have a GPU set up on your machine.\n"
     ]
    },
    {
     "name": "stdout",
     "output_type": "stream",
     "text": [
      "2.6.0\n"
     ]
    }
   ],
   "source": [
    "import tensorflow as tf\n",
    "\n",
    "from tensorflow import keras\n",
    "from tensorflow.keras import layers\n",
    "\n",
    "print(tf.__version__)"
   ]
  },
  {
   "cell_type": "code",
   "execution_count": 4,
   "metadata": {},
   "outputs": [],
   "source": [
    "df = pd.read_csv('extended_training_data.csv')"
   ]
  },
  {
   "cell_type": "code",
   "execution_count": 5,
   "metadata": {},
   "outputs": [
    {
     "data": {
      "text/html": [
       "<div>\n",
       "<style scoped>\n",
       "    .dataframe tbody tr th:only-of-type {\n",
       "        vertical-align: middle;\n",
       "    }\n",
       "\n",
       "    .dataframe tbody tr th {\n",
       "        vertical-align: top;\n",
       "    }\n",
       "\n",
       "    .dataframe thead th {\n",
       "        text-align: right;\n",
       "    }\n",
       "</style>\n",
       "<table border=\"1\" class=\"dataframe\">\n",
       "  <thead>\n",
       "    <tr style=\"text-align: right;\">\n",
       "      <th></th>\n",
       "      <th>base_speed</th>\n",
       "      <th>distance_from_wall</th>\n",
       "      <th>rotation_angle</th>\n",
       "      <th>distance_setpoint</th>\n",
       "      <th>docking_time</th>\n",
       "      <th>docking_distance</th>\n",
       "    </tr>\n",
       "  </thead>\n",
       "  <tbody>\n",
       "    <tr>\n",
       "      <th>4495</th>\n",
       "      <td>2.5</td>\n",
       "      <td>531.848167</td>\n",
       "      <td>0.391318</td>\n",
       "      <td>500.0</td>\n",
       "      <td>11.515198</td>\n",
       "      <td>1674.391470</td>\n",
       "    </tr>\n",
       "    <tr>\n",
       "      <th>4496</th>\n",
       "      <td>2.5</td>\n",
       "      <td>523.195455</td>\n",
       "      <td>0.390732</td>\n",
       "      <td>500.0</td>\n",
       "      <td>11.465354</td>\n",
       "      <td>1703.937812</td>\n",
       "    </tr>\n",
       "    <tr>\n",
       "      <th>4497</th>\n",
       "      <td>2.5</td>\n",
       "      <td>538.721214</td>\n",
       "      <td>0.390282</td>\n",
       "      <td>500.0</td>\n",
       "      <td>11.691364</td>\n",
       "      <td>1713.239634</td>\n",
       "    </tr>\n",
       "    <tr>\n",
       "      <th>4498</th>\n",
       "      <td>2.5</td>\n",
       "      <td>535.153784</td>\n",
       "      <td>0.390795</td>\n",
       "      <td>500.0</td>\n",
       "      <td>11.630805</td>\n",
       "      <td>1711.575030</td>\n",
       "    </tr>\n",
       "    <tr>\n",
       "      <th>4499</th>\n",
       "      <td>2.5</td>\n",
       "      <td>530.107834</td>\n",
       "      <td>0.387953</td>\n",
       "      <td>500.0</td>\n",
       "      <td>11.744208</td>\n",
       "      <td>1698.880013</td>\n",
       "    </tr>\n",
       "  </tbody>\n",
       "</table>\n",
       "</div>"
      ],
      "text/plain": [
       "      base_speed  distance_from_wall  rotation_angle  distance_setpoint  \\\n",
       "4495         2.5          531.848167        0.391318              500.0   \n",
       "4496         2.5          523.195455        0.390732              500.0   \n",
       "4497         2.5          538.721214        0.390282              500.0   \n",
       "4498         2.5          535.153784        0.390795              500.0   \n",
       "4499         2.5          530.107834        0.387953              500.0   \n",
       "\n",
       "      docking_time  docking_distance  \n",
       "4495     11.515198       1674.391470  \n",
       "4496     11.465354       1703.937812  \n",
       "4497     11.691364       1713.239634  \n",
       "4498     11.630805       1711.575030  \n",
       "4499     11.744208       1698.880013  "
      ]
     },
     "execution_count": 5,
     "metadata": {},
     "output_type": "execute_result"
    }
   ],
   "source": [
    "df.tail()"
   ]
  },
  {
   "cell_type": "code",
   "execution_count": 6,
   "metadata": {},
   "outputs": [],
   "source": [
    "train_dataset = df.sample(frac=0.8, random_state=0)\n",
    "test_dataset = df.drop(train_dataset.index)"
   ]
  },
  {
   "cell_type": "code",
   "execution_count": 7,
   "metadata": {},
   "outputs": [
    {
     "data": {
      "image/png": "[encoded data removed]",
      "text/plain": [
       "<Figure size 720x720 with 20 Axes>"
      ]
     },
     "metadata": {
      "needs_background": "light"
     },
     "output_type": "display_data"
    }
   ],
   "source": [
    "plot=sns.pairplot(train_dataset[[ \n",
    "                            # 'base_speed',\n",
    "                            'distance_from_wall', \n",
    "                            'rotation_angle',\n",
    "                            # 'distance_setpoint', \n",
    "                            'docking_time', \n",
    "                            'docking_distance']], \n",
    "                            diag_kind='kde'\n",
    "                            )\n",
    "plt.savefig('output.png')"
   ]
  },
  {
   "cell_type": "code",
   "execution_count": 8,
   "metadata": {},
   "outputs": [
    {
     "data": {
      "text/html": [
       "<div>\n",
       "<style scoped>\n",
       "    .dataframe tbody tr th:only-of-type {\n",
       "        vertical-align: middle;\n",
       "    }\n",
       "\n",
       "    .dataframe tbody tr th {\n",
       "        vertical-align: top;\n",
       "    }\n",
       "\n",
       "    .dataframe thead th {\n",
       "        text-align: right;\n",
       "    }\n",
       "</style>\n",
       "<table border=\"1\" class=\"dataframe\">\n",
       "  <thead>\n",
       "    <tr style=\"text-align: right;\">\n",
       "      <th></th>\n",
       "      <th>count</th>\n",
       "      <th>mean</th>\n",
       "      <th>std</th>\n",
       "      <th>min</th>\n",
       "      <th>25%</th>\n",
       "      <th>50%</th>\n",
       "      <th>75%</th>\n",
       "      <th>max</th>\n",
       "    </tr>\n",
       "  </thead>\n",
       "  <tbody>\n",
       "    <tr>\n",
       "      <th>base_speed</th>\n",
       "      <td>3600.0</td>\n",
       "      <td>2.500000</td>\n",
       "      <td>0.000000</td>\n",
       "      <td>2.500000</td>\n",
       "      <td>2.500000</td>\n",
       "      <td>2.500000</td>\n",
       "      <td>2.500000</td>\n",
       "      <td>2.500000</td>\n",
       "    </tr>\n",
       "    <tr>\n",
       "      <th>distance_from_wall</th>\n",
       "      <td>3600.0</td>\n",
       "      <td>512.445866</td>\n",
       "      <td>164.546498</td>\n",
       "      <td>286.976513</td>\n",
       "      <td>344.321811</td>\n",
       "      <td>491.597934</td>\n",
       "      <td>671.739832</td>\n",
       "      <td>820.912826</td>\n",
       "    </tr>\n",
       "    <tr>\n",
       "      <th>rotation_angle</th>\n",
       "      <td>3600.0</td>\n",
       "      <td>-0.053640</td>\n",
       "      <td>0.355592</td>\n",
       "      <td>-1.304903</td>\n",
       "      <td>-0.189153</td>\n",
       "      <td>0.000000</td>\n",
       "      <td>0.153388</td>\n",
       "      <td>0.691801</td>\n",
       "    </tr>\n",
       "    <tr>\n",
       "      <th>distance_setpoint</th>\n",
       "      <td>3600.0</td>\n",
       "      <td>500.000000</td>\n",
       "      <td>0.000000</td>\n",
       "      <td>500.000000</td>\n",
       "      <td>500.000000</td>\n",
       "      <td>500.000000</td>\n",
       "      <td>500.000000</td>\n",
       "      <td>500.000000</td>\n",
       "    </tr>\n",
       "    <tr>\n",
       "      <th>docking_time</th>\n",
       "      <td>3600.0</td>\n",
       "      <td>10.414083</td>\n",
       "      <td>6.193692</td>\n",
       "      <td>0.000585</td>\n",
       "      <td>6.026043</td>\n",
       "      <td>9.547753</td>\n",
       "      <td>14.893725</td>\n",
       "      <td>25.728777</td>\n",
       "    </tr>\n",
       "    <tr>\n",
       "      <th>docking_distance</th>\n",
       "      <td>3600.0</td>\n",
       "      <td>1570.180704</td>\n",
       "      <td>830.120669</td>\n",
       "      <td>0.000000</td>\n",
       "      <td>1025.795334</td>\n",
       "      <td>1462.633703</td>\n",
       "      <td>2243.551784</td>\n",
       "      <td>3454.872171</td>\n",
       "    </tr>\n",
       "  </tbody>\n",
       "</table>\n",
       "</div>"
      ],
      "text/plain": [
       "                     count         mean         std         min          25%  \\\n",
       "base_speed          3600.0     2.500000    0.000000    2.500000     2.500000   \n",
       "distance_from_wall  3600.0   512.445866  164.546498  286.976513   344.321811   \n",
       "rotation_angle      3600.0    -0.053640    0.355592   -1.304903    -0.189153   \n",
       "distance_setpoint   3600.0   500.000000    0.000000  500.000000   500.000000   \n",
       "docking_time        3600.0    10.414083    6.193692    0.000585     6.026043   \n",
       "docking_distance    3600.0  1570.180704  830.120669    0.000000  1025.795334   \n",
       "\n",
       "                            50%          75%          max  \n",
       "base_speed             2.500000     2.500000     2.500000  \n",
       "distance_from_wall   491.597934   671.739832   820.912826  \n",
       "rotation_angle         0.000000     0.153388     0.691801  \n",
       "distance_setpoint    500.000000   500.000000   500.000000  \n",
       "docking_time           9.547753    14.893725    25.728777  \n",
       "docking_distance    1462.633703  2243.551784  3454.872171  "
      ]
     },
     "execution_count": 8,
     "metadata": {},
     "output_type": "execute_result"
    }
   ],
   "source": [
    "train_dataset.describe().transpose()"
   ]
  },
  {
   "cell_type": "code",
   "execution_count": 9,
   "metadata": {},
   "outputs": [],
   "source": [
    "train_features = train_dataset.copy()\n",
    "test_features = test_dataset.copy()\n",
    "\n",
    "train_labels = train_features.pop('docking_distance')\n",
    "t=train_features.pop('docking_time')\n",
    "\n",
    "test_labels = test_features.pop('docking_distance')\n",
    "t=test_features.pop('docking_time')"
   ]
  },
  {
   "cell_type": "code",
   "execution_count": 67,
   "metadata": {},
   "outputs": [
    {
     "data": {
      "text/html": [
       "<div>\n",
       "<style scoped>\n",
       "    .dataframe tbody tr th:only-of-type {\n",
       "        vertical-align: middle;\n",
       "    }\n",
       "\n",
       "    .dataframe tbody tr th {\n",
       "        vertical-align: top;\n",
       "    }\n",
       "\n",
       "    .dataframe thead th {\n",
       "        text-align: right;\n",
       "    }\n",
       "</style>\n",
       "<table border=\"1\" class=\"dataframe\">\n",
       "  <thead>\n",
       "    <tr style=\"text-align: right;\">\n",
       "      <th></th>\n",
       "      <th>base_speed</th>\n",
       "      <th>distance_from_wall</th>\n",
       "      <th>rotation_angle</th>\n",
       "      <th>distance_setpoint</th>\n",
       "    </tr>\n",
       "  </thead>\n",
       "  <tbody>\n",
       "    <tr>\n",
       "      <th>854</th>\n",
       "      <td>2.5</td>\n",
       "      <td>712.493222</td>\n",
       "      <td>0.669720</td>\n",
       "      <td>500.0</td>\n",
       "    </tr>\n",
       "    <tr>\n",
       "      <th>2560</th>\n",
       "      <td>2.5</td>\n",
       "      <td>313.364074</td>\n",
       "      <td>-0.228212</td>\n",
       "      <td>500.0</td>\n",
       "    </tr>\n",
       "    <tr>\n",
       "      <th>2212</th>\n",
       "      <td>2.5</td>\n",
       "      <td>478.538854</td>\n",
       "      <td>-0.261845</td>\n",
       "      <td>500.0</td>\n",
       "    </tr>\n",
       "    <tr>\n",
       "      <th>2347</th>\n",
       "      <td>2.5</td>\n",
       "      <td>484.815979</td>\n",
       "      <td>0.201843</td>\n",
       "      <td>500.0</td>\n",
       "    </tr>\n",
       "    <tr>\n",
       "      <th>1529</th>\n",
       "      <td>2.5</td>\n",
       "      <td>344.761930</td>\n",
       "      <td>-0.334078</td>\n",
       "      <td>500.0</td>\n",
       "    </tr>\n",
       "    <tr>\n",
       "      <th>...</th>\n",
       "      <td>...</td>\n",
       "      <td>...</td>\n",
       "      <td>...</td>\n",
       "      <td>...</td>\n",
       "    </tr>\n",
       "    <tr>\n",
       "      <th>1178</th>\n",
       "      <td>2.5</td>\n",
       "      <td>687.955017</td>\n",
       "      <td>-0.142119</td>\n",
       "      <td>500.0</td>\n",
       "    </tr>\n",
       "    <tr>\n",
       "      <th>2129</th>\n",
       "      <td>2.5</td>\n",
       "      <td>366.831078</td>\n",
       "      <td>-0.153615</td>\n",
       "      <td>500.0</td>\n",
       "    </tr>\n",
       "    <tr>\n",
       "      <th>2532</th>\n",
       "      <td>2.5</td>\n",
       "      <td>316.465797</td>\n",
       "      <td>-0.224896</td>\n",
       "      <td>500.0</td>\n",
       "    </tr>\n",
       "    <tr>\n",
       "      <th>397</th>\n",
       "      <td>2.5</td>\n",
       "      <td>673.384589</td>\n",
       "      <td>0.000000</td>\n",
       "      <td>500.0</td>\n",
       "    </tr>\n",
       "    <tr>\n",
       "      <th>1291</th>\n",
       "      <td>2.5</td>\n",
       "      <td>334.352557</td>\n",
       "      <td>-0.368662</td>\n",
       "      <td>500.0</td>\n",
       "    </tr>\n",
       "  </tbody>\n",
       "</table>\n",
       "<p>3600 rows × 4 columns</p>\n",
       "</div>"
      ],
      "text/plain": [
       "      base_speed  distance_from_wall  rotation_angle  distance_setpoint\n",
       "854          2.5          712.493222        0.669720              500.0\n",
       "2560         2.5          313.364074       -0.228212              500.0\n",
       "2212         2.5          478.538854       -0.261845              500.0\n",
       "2347         2.5          484.815979        0.201843              500.0\n",
       "1529         2.5          344.761930       -0.334078              500.0\n",
       "...          ...                 ...             ...                ...\n",
       "1178         2.5          687.955017       -0.142119              500.0\n",
       "2129         2.5          366.831078       -0.153615              500.0\n",
       "2532         2.5          316.465797       -0.224896              500.0\n",
       "397          2.5          673.384589        0.000000              500.0\n",
       "1291         2.5          334.352557       -0.368662              500.0\n",
       "\n",
       "[3600 rows x 4 columns]"
      ]
     },
     "execution_count": 67,
     "metadata": {},
     "output_type": "execute_result"
    }
   ],
   "source": [
    "train_features"
   ]
  },
  {
   "cell_type": "code",
   "execution_count": 68,
   "metadata": {},
   "outputs": [
    {
     "data": {
      "text/plain": [
       "854     2749.664581\n",
       "2560     854.690988\n",
       "2212    2245.719676\n",
       "2347     396.830808\n",
       "1529    3183.864462\n",
       "           ...     \n",
       "1178    2409.393773\n",
       "2129    1088.111901\n",
       "2532     822.922639\n",
       "397     1008.197378\n",
       "1291    1708.562482\n",
       "Name: docking_distance, Length: 3600, dtype: float64"
      ]
     },
     "execution_count": 68,
     "metadata": {},
     "output_type": "execute_result"
    }
   ],
   "source": [
    "train_labels"
   ]
  },
  {
   "cell_type": "code",
   "execution_count": 69,
   "metadata": {},
   "outputs": [
    {
     "data": {
      "text/html": [
       "<div>\n",
       "<style scoped>\n",
       "    .dataframe tbody tr th:only-of-type {\n",
       "        vertical-align: middle;\n",
       "    }\n",
       "\n",
       "    .dataframe tbody tr th {\n",
       "        vertical-align: top;\n",
       "    }\n",
       "\n",
       "    .dataframe thead th {\n",
       "        text-align: right;\n",
       "    }\n",
       "</style>\n",
       "<table border=\"1\" class=\"dataframe\">\n",
       "  <thead>\n",
       "    <tr style=\"text-align: right;\">\n",
       "      <th></th>\n",
       "      <th>base_speed</th>\n",
       "      <th>distance_from_wall</th>\n",
       "      <th>rotation_angle</th>\n",
       "      <th>distance_setpoint</th>\n",
       "    </tr>\n",
       "  </thead>\n",
       "  <tbody>\n",
       "    <tr>\n",
       "      <th>0</th>\n",
       "      <td>2.5</td>\n",
       "      <td>317.405327</td>\n",
       "      <td>0.000000</td>\n",
       "      <td>500.0</td>\n",
       "    </tr>\n",
       "    <tr>\n",
       "      <th>7</th>\n",
       "      <td>2.5</td>\n",
       "      <td>311.945307</td>\n",
       "      <td>0.000000</td>\n",
       "      <td>500.0</td>\n",
       "    </tr>\n",
       "    <tr>\n",
       "      <th>12</th>\n",
       "      <td>2.5</td>\n",
       "      <td>310.614766</td>\n",
       "      <td>0.000000</td>\n",
       "      <td>500.0</td>\n",
       "    </tr>\n",
       "    <tr>\n",
       "      <th>21</th>\n",
       "      <td>2.5</td>\n",
       "      <td>309.597484</td>\n",
       "      <td>0.000000</td>\n",
       "      <td>500.0</td>\n",
       "    </tr>\n",
       "    <tr>\n",
       "      <th>24</th>\n",
       "      <td>2.5</td>\n",
       "      <td>308.845273</td>\n",
       "      <td>0.000000</td>\n",
       "      <td>500.0</td>\n",
       "    </tr>\n",
       "    <tr>\n",
       "      <th>...</th>\n",
       "      <td>...</td>\n",
       "      <td>...</td>\n",
       "      <td>...</td>\n",
       "      <td>...</td>\n",
       "    </tr>\n",
       "    <tr>\n",
       "      <th>4480</th>\n",
       "      <td>2.5</td>\n",
       "      <td>536.588567</td>\n",
       "      <td>0.391941</td>\n",
       "      <td>500.0</td>\n",
       "    </tr>\n",
       "    <tr>\n",
       "      <th>4481</th>\n",
       "      <td>2.5</td>\n",
       "      <td>536.474226</td>\n",
       "      <td>0.386694</td>\n",
       "      <td>500.0</td>\n",
       "    </tr>\n",
       "    <tr>\n",
       "      <th>4487</th>\n",
       "      <td>2.5</td>\n",
       "      <td>526.448464</td>\n",
       "      <td>0.390552</td>\n",
       "      <td>500.0</td>\n",
       "    </tr>\n",
       "    <tr>\n",
       "      <th>4497</th>\n",
       "      <td>2.5</td>\n",
       "      <td>538.721214</td>\n",
       "      <td>0.390282</td>\n",
       "      <td>500.0</td>\n",
       "    </tr>\n",
       "    <tr>\n",
       "      <th>4498</th>\n",
       "      <td>2.5</td>\n",
       "      <td>535.153784</td>\n",
       "      <td>0.390795</td>\n",
       "      <td>500.0</td>\n",
       "    </tr>\n",
       "  </tbody>\n",
       "</table>\n",
       "<p>900 rows × 4 columns</p>\n",
       "</div>"
      ],
      "text/plain": [
       "      base_speed  distance_from_wall  rotation_angle  distance_setpoint\n",
       "0            2.5          317.405327        0.000000              500.0\n",
       "7            2.5          311.945307        0.000000              500.0\n",
       "12           2.5          310.614766        0.000000              500.0\n",
       "21           2.5          309.597484        0.000000              500.0\n",
       "24           2.5          308.845273        0.000000              500.0\n",
       "...          ...                 ...             ...                ...\n",
       "4480         2.5          536.588567        0.391941              500.0\n",
       "4481         2.5          536.474226        0.386694              500.0\n",
       "4487         2.5          526.448464        0.390552              500.0\n",
       "4497         2.5          538.721214        0.390282              500.0\n",
       "4498         2.5          535.153784        0.390795              500.0\n",
       "\n",
       "[900 rows x 4 columns]"
      ]
     },
     "execution_count": 69,
     "metadata": {},
     "output_type": "execute_result"
    }
   ],
   "source": [
    "test_features"
   ]
  },
  {
   "cell_type": "markdown",
   "metadata": {},
   "source": [
    "# Normalization"
   ]
  },
  {
   "cell_type": "code",
   "execution_count": 10,
   "metadata": {},
   "outputs": [
    {
     "data": {
      "text/html": [
       "<div>\n",
       "<style scoped>\n",
       "    .dataframe tbody tr th:only-of-type {\n",
       "        vertical-align: middle;\n",
       "    }\n",
       "\n",
       "    .dataframe tbody tr th {\n",
       "        vertical-align: top;\n",
       "    }\n",
       "\n",
       "    .dataframe thead th {\n",
       "        text-align: right;\n",
       "    }\n",
       "</style>\n",
       "<table border=\"1\" class=\"dataframe\">\n",
       "  <thead>\n",
       "    <tr style=\"text-align: right;\">\n",
       "      <th></th>\n",
       "      <th>mean</th>\n",
       "      <th>std</th>\n",
       "    </tr>\n",
       "  </thead>\n",
       "  <tbody>\n",
       "    <tr>\n",
       "      <th>base_speed</th>\n",
       "      <td>2.500000</td>\n",
       "      <td>0.000000</td>\n",
       "    </tr>\n",
       "    <tr>\n",
       "      <th>distance_from_wall</th>\n",
       "      <td>512.445866</td>\n",
       "      <td>164.546498</td>\n",
       "    </tr>\n",
       "    <tr>\n",
       "      <th>rotation_angle</th>\n",
       "      <td>-0.053640</td>\n",
       "      <td>0.355592</td>\n",
       "    </tr>\n",
       "    <tr>\n",
       "      <th>distance_setpoint</th>\n",
       "      <td>500.000000</td>\n",
       "      <td>0.000000</td>\n",
       "    </tr>\n",
       "    <tr>\n",
       "      <th>docking_time</th>\n",
       "      <td>10.414083</td>\n",
       "      <td>6.193692</td>\n",
       "    </tr>\n",
       "    <tr>\n",
       "      <th>docking_distance</th>\n",
       "      <td>1570.180704</td>\n",
       "      <td>830.120669</td>\n",
       "    </tr>\n",
       "  </tbody>\n",
       "</table>\n",
       "</div>"
      ],
      "text/plain": [
       "                           mean         std\n",
       "base_speed             2.500000    0.000000\n",
       "distance_from_wall   512.445866  164.546498\n",
       "rotation_angle        -0.053640    0.355592\n",
       "distance_setpoint    500.000000    0.000000\n",
       "docking_time          10.414083    6.193692\n",
       "docking_distance    1570.180704  830.120669"
      ]
     },
     "execution_count": 10,
     "metadata": {},
     "output_type": "execute_result"
    }
   ],
   "source": [
    "train_dataset.describe().transpose()[['mean', 'std']]"
   ]
  },
  {
   "cell_type": "code",
   "execution_count": 11,
   "metadata": {},
   "outputs": [],
   "source": [
    "normalizer = tf.keras.layers.Normalization(axis=-1)"
   ]
  },
  {
   "cell_type": "code",
   "execution_count": 12,
   "metadata": {},
   "outputs": [
    {
     "name": "stderr",
     "output_type": "stream",
     "text": [
      "2022-01-21 11:29:45.496153: W tensorflow/stream_executor/platform/default/dso_loader.cc:64] Could not load dynamic library 'libcuda.so.1'; dlerror: libcuda.so.1: cannot open shared object file: No such file or directory; LD_LIBRARY_PATH: /home/ubuntu/catkin_ws/devel/lib:/opt/ros/noetic/lib\n",
      "2022-01-21 11:29:45.496186: W tensorflow/stream_executor/cuda/cuda_driver.cc:269] failed call to cuInit: UNKNOWN ERROR (303)\n",
      "2022-01-21 11:29:45.496208: I tensorflow/stream_executor/cuda/cuda_diagnostics.cc:156] kernel driver does not appear to be running on this host (ubuntu): /proc/driver/nvidia/version does not exist\n",
      "2022-01-21 11:29:45.496531: I tensorflow/core/platform/cpu_feature_guard.cc:142] This TensorFlow binary is optimized with oneAPI Deep Neural Network Library (oneDNN) to use the following CPU instructions in performance-critical operations:  AVX2 FMA\n",
      "To enable them in other operations, rebuild TensorFlow with the appropriate compiler flags.\n",
      "2022-01-21 11:29:45.541297: I tensorflow/compiler/mlir/mlir_graph_optimization_pass.cc:185] None of the MLIR Optimization Passes are enabled (registered 2)\n"
     ]
    }
   ],
   "source": [
    "normalizer.adapt(np.array(train_features))"
   ]
  },
  {
   "cell_type": "code",
   "execution_count": 13,
   "metadata": {},
   "outputs": [
    {
     "name": "stdout",
     "output_type": "stream",
     "text": [
      "[[  2.5   512.446  -0.054 500.   ]]\n"
     ]
    }
   ],
   "source": [
    "print(normalizer.mean.numpy())"
   ]
  },
  {
   "cell_type": "markdown",
   "metadata": {},
   "source": [
    "# Regression with a deep neural network (DNN)"
   ]
  },
  {
   "cell_type": "code",
   "execution_count": 14,
   "metadata": {},
   "outputs": [],
   "source": [
    "def plot_loss(history):\n",
    "  plt.plot(history.history['loss'], label='loss')\n",
    "  plt.plot(history.history['val_loss'], label='val_loss')\n",
    "  plt.ylim([0, 2500])\n",
    "  plt.xlabel('Epoch')\n",
    "  plt.ylabel('Error')\n",
    "  plt.legend()\n",
    "  plt.grid(True)\n",
    "  plt.savefig('loss.png', dpi=300)"
   ]
  },
  {
   "cell_type": "code",
   "execution_count": 34,
   "metadata": {},
   "outputs": [],
   "source": [
    "def build_and_compile(norm):\n",
    "    model = keras.Sequential([\n",
    "        norm,\n",
    "        layers.Dense(64, activation='relu'),\n",
    "        layers.Dense(128, activation='relu'),\n",
    "        layers.Dense(256, activation='relu'), \n",
    "        layers.Dense(128, activation='relu'), \n",
    "        layers.Dense(64, activation='relu'),\n",
    "        layers.Dense(1)\n",
    "    ])\n",
    "\n",
    "    model.compile(loss='mean_absolute_error', optimizer=tf.keras.optimizers.Adam(0.001))\n",
    "\n",
    "    return model"
   ]
  },
  {
   "cell_type": "markdown",
   "metadata": {},
   "source": [
    "## Multiple inputs"
   ]
  },
  {
   "cell_type": "code",
   "execution_count": 35,
   "metadata": {},
   "outputs": [
    {
     "name": "stdout",
     "output_type": "stream",
     "text": [
      "Model: \"sequential_2\"\n",
      "_________________________________________________________________\n",
      "Layer (type)                 Output Shape              Param #   \n",
      "=================================================================\n",
      "normalization (Normalization (None, 4)                 9         \n",
      "_________________________________________________________________\n",
      "dense_12 (Dense)             (None, 64)                320       \n",
      "_________________________________________________________________\n",
      "dense_13 (Dense)             (None, 128)               8320      \n",
      "_________________________________________________________________\n",
      "dense_14 (Dense)             (None, 256)               33024     \n",
      "_________________________________________________________________\n",
      "dense_15 (Dense)             (None, 128)               32896     \n",
      "_________________________________________________________________\n",
      "dense_16 (Dense)             (None, 64)                8256      \n",
      "_________________________________________________________________\n",
      "dense_17 (Dense)             (None, 1)                 65        \n",
      "=================================================================\n",
      "Total params: 82,890\n",
      "Trainable params: 82,881\n",
      "Non-trainable params: 9\n",
      "_________________________________________________________________\n"
     ]
    }
   ],
   "source": [
    "dnn_model = build_and_compile(normalizer)\n",
    "dnn_model.summary()"
   ]
  },
  {
   "cell_type": "code",
   "execution_count": 36,
   "metadata": {},
   "outputs": [
    {
     "name": "stdout",
     "output_type": "stream",
     "text": [
      "CPU times: user 10min 33s, sys: 1min 2s, total: 11min 36s\n",
      "Wall time: 5min 58s\n"
     ]
    }
   ],
   "source": [
    "%%time\n",
    "\n",
    "early_stop = keras.callbacks.EarlyStopping(monitor='val_loss', patience=200)\n",
    "\n",
    "history = dnn_model.fit(\n",
    "    train_features,\n",
    "    train_labels,\n",
    "    callbacks=early_stop,\n",
    "    validation_split=0.2,\n",
    "    verbose=0, epochs=1500)"
   ]
  },
  {
   "cell_type": "code",
   "execution_count": 37,
   "metadata": {},
   "outputs": [
    {
     "data": {
      "image/png": "[encoded data removed]",
      "text/plain": [
       "<Figure size 432x288 with 1 Axes>"
      ]
     },
     "metadata": {
      "needs_background": "light"
     },
     "output_type": "display_data"
    }
   ],
   "source": [
    "plot_loss(history)"
   ]
  },
  {
   "cell_type": "code",
   "execution_count": 38,
   "metadata": {},
   "outputs": [
    {
     "name": "stdout",
     "output_type": "stream",
     "text": [
      "32.9052734375\n"
     ]
    }
   ],
   "source": [
    "test_results = {}\n",
    "test_results['dnn_model'] = dnn_model.evaluate(test_features, test_labels, verbose=0)\n",
    "print(test_results['dnn_model'])"
   ]
  },
  {
   "cell_type": "markdown",
   "metadata": {},
   "source": [
    "# Make predictions"
   ]
  },
  {
   "cell_type": "code",
   "execution_count": 58,
   "metadata": {},
   "outputs": [
    {
     "name": "stdout",
     "output_type": "stream",
     "text": [
      "base_speed              2.500000\n",
      "distance_from_wall    317.405327\n",
      "rotation_angle          0.000000\n",
      "distance_setpoint     500.000000\n",
      "Name: 0, dtype: float64\n"
     ]
    },
    {
     "data": {
      "text/plain": [
       "(array([  1.,   0.,   2.,   6.,  13.,   2.,   0.,   0.,   1.,   2.,   0.,\n",
       "          0.,   1.,   2.,   6.,  34., 495., 282.,  35.,   5.,   2.,   4.,\n",
       "          2.,   1.,   0.,   2.,   0.,   0.,   1.,   1.]),\n",
       " array([-63.258, -59.495, -55.733, -51.971, -48.209, -44.447, -40.685,\n",
       "        -36.923, -33.161, -29.399, -25.637, -21.875, -18.113, -14.35 ,\n",
       "        -10.588,  -6.826,  -3.064,   0.698,   4.46 ,   8.222,  11.984,\n",
       "         15.746,  19.508,  23.27 ,  27.032,  30.794,  34.557,  38.319,\n",
       "         42.081,  45.843,  49.605]),\n",
       " <BarContainer object of 30 artists>)"
      ]
     },
     "execution_count": 58,
     "metadata": {},
     "output_type": "execute_result"
    },
    {
     "data": {
      "image/png": "[encoded data removed]",
      "text/plain": [
       "<Figure size 432x288 with 1 Axes>"
      ]
     },
     "metadata": {
      "needs_background": "light"
     },
     "output_type": "display_data"
    }
   ],
   "source": [
    "test_predictions = dnn_model.predict(test_features).flatten()\n",
    "\n",
    "test_predictions = np.array(test_predictions)\n",
    "test_labels = np.array(list(test_labels))\n",
    "\n",
    "print(test_features.iloc[0,:])\n",
    "\n",
    "errors = (test_predictions - test_labels)/10\n",
    "# print(np.sort(np.absolute(errors)))\n",
    "\n",
    "plt.hist(errors, bins=30)"
   ]
  },
  {
   "cell_type": "code",
   "execution_count": 66,
   "metadata": {},
   "outputs": [
    {
     "name": "stdout",
     "output_type": "stream",
     "text": [
      "[1.206e+10]\n"
     ]
    }
   ],
   "source": [
    "test_predictions = dnn_model.predict([100]).flatten()\n",
    "print(test_predictions)"
   ]
  },
  {
   "cell_type": "markdown",
   "metadata": {},
   "source": [
    "# Save Model"
   ]
  },
  {
   "cell_type": "code",
   "execution_count": 42,
   "metadata": {},
   "outputs": [
    {
     "name": "stderr",
     "output_type": "stream",
     "text": [
      "2022-01-21 11:48:40.170943: W tensorflow/python/util/util.cc:348] Sets are not currently considered sequences, but this may change in the future, so consider avoiding using them.\n"
     ]
    },
    {
     "name": "stdout",
     "output_type": "stream",
     "text": [
      "INFO:tensorflow:Assets written to: docking_distance_prediction/assets\n"
     ]
    }
   ],
   "source": [
    "dnn_model.save('docking_distance_prediction/')"
   ]
  },
  {
   "cell_type": "code",
   "execution_count": 44,
   "metadata": {},
   "outputs": [],
   "source": [
    "loaded_model = keras.models.load_model('docking_distance_prediction/')"
   ]
  },
  {
   "cell_type": "code",
   "execution_count": 98,
   "metadata": {},
   "outputs": [
    {
     "name": "stdout",
     "output_type": "stream",
     "text": [
      "[4.679e+08 3.903e+10 7.865e+08 6.296e+10]\n",
      "   base_speed  distance_from_wall  rotation_angle  distance_setpoint\n",
      "7         2.5          311.945307             0.0              500.0\n"
     ]
    }
   ],
   "source": [
    "test_predictions = dnn_model.predict([2.5,311.945307,0.0,500.0]).flatten()\n",
    "print(test_predictions)\n",
    "print(test_features.iloc[1:2,:])"
   ]
  }
 ],
 "metadata": {
  "interpreter": {
   "hash": "916dbcbb3f70747c44a77c7bcd40155683ae19c65e1c03b4aa3499c5328201f1"
  },
  "kernelspec": {
   "display_name": "Python 3.8.10 64-bit",
   "language": "python",
   "name": "python3"
  },
  "language_info": {
   "codemirror_mode": {
    "name": "ipython",
    "version": 3
   },
   "file_extension": ".py",
   "mimetype": "text/x-python",
   "name": "python",
   "nbconvert_exporter": "python",
   "pygments_lexer": "ipython3",
   "version": "3.8.10"
  },
  "orig_nbformat": 4
 },
 "nbformat": 4,
 "nbformat_minor": 2
}
