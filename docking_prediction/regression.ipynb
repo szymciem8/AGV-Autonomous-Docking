{
 "cells": [
  {
   "cell_type": "code",
   "execution_count": 1,
   "metadata": {},
   "outputs": [
    {
     "name": "stdout",
     "output_type": "stream",
     "text": [
      "Defaulting to user installation because normal site-packages is not writeable\n",
      "Collecting seaborn\n",
      "  Downloading seaborn-0.11.2-py3-none-any.whl (292 kB)\n",
      "     |████████████████████████████████| 292 kB 2.2 MB/s            \n",
      "\u001b[?25hRequirement already satisfied: scipy>=1.0 in /home/ubuntu/.local/lib/python3.8/site-packages (from seaborn) (1.7.1)\n",
      "Requirement already satisfied: matplotlib>=2.2 in /home/ubuntu/.local/lib/python3.8/site-packages (from seaborn) (3.4.3)\n",
      "Requirement already satisfied: pandas>=0.23 in /home/ubuntu/.local/lib/python3.8/site-packages (from seaborn) (1.3.4)\n",
      "Requirement already satisfied: numpy>=1.15 in /home/ubuntu/.local/lib/python3.8/site-packages (from seaborn) (1.19.5)\n",
      "Requirement already satisfied: pyparsing>=2.2.1 in /home/ubuntu/.local/lib/python3.8/site-packages (from matplotlib>=2.2->seaborn) (2.4.7)\n",
      "Requirement already satisfied: kiwisolver>=1.0.1 in /home/ubuntu/.local/lib/python3.8/site-packages (from matplotlib>=2.2->seaborn) (1.3.2)\n",
      "Requirement already satisfied: python-dateutil>=2.7 in /usr/lib/python3/dist-packages (from matplotlib>=2.2->seaborn) (2.7.3)\n",
      "Requirement already satisfied: cycler>=0.10 in /home/ubuntu/.local/lib/python3.8/site-packages (from matplotlib>=2.2->seaborn) (0.10.0)\n",
      "Requirement already satisfied: pillow>=6.2.0 in /usr/lib/python3/dist-packages (from matplotlib>=2.2->seaborn) (7.0.0)\n",
      "Requirement already satisfied: pytz>=2017.3 in /usr/lib/python3/dist-packages (from pandas>=0.23->seaborn) (2019.3)\n",
      "Requirement already satisfied: six in /home/ubuntu/.local/lib/python3.8/site-packages (from cycler>=0.10->matplotlib>=2.2->seaborn) (1.15.0)\n",
      "Installing collected packages: seaborn\n",
      "Successfully installed seaborn-0.11.2\n"
     ]
    }
   ],
   "source": [
    "!pip install seaborn"
   ]
  },
  {
   "cell_type": "code",
   "execution_count": 9,
   "metadata": {},
   "outputs": [],
   "source": [
    "import matplotlib.pyplot as plt\n",
    "import numpy as np\n",
    "import pandas as pd\n",
    "import seaborn as sns\n",
    "\n",
    "np.set_printoptions(precision=3, suppress=True)"
   ]
  },
  {
   "cell_type": "code",
   "execution_count": 10,
   "metadata": {},
   "outputs": [
    {
     "name": "stdout",
     "output_type": "stream",
     "text": [
      "2.6.0\n"
     ]
    }
   ],
   "source": [
    "import tensorflow as tf\n",
    "\n",
    "from tensorflow import keras\n",
    "from tensorflow.keras import layers\n",
    "\n",
    "print(tf.__version__)"
   ]
  },
  {
   "cell_type": "code",
   "execution_count": 11,
   "metadata": {},
   "outputs": [],
   "source": [
    "df = pd.read_csv('training_data.csv')"
   ]
  },
  {
   "cell_type": "code",
   "execution_count": 12,
   "metadata": {},
   "outputs": [
    {
     "data": {
      "text/html": [
       "<div>\n",
       "<style scoped>\n",
       "    .dataframe tbody tr th:only-of-type {\n",
       "        vertical-align: middle;\n",
       "    }\n",
       "\n",
       "    .dataframe tbody tr th {\n",
       "        vertical-align: top;\n",
       "    }\n",
       "\n",
       "    .dataframe thead th {\n",
       "        text-align: right;\n",
       "    }\n",
       "</style>\n",
       "<table border=\"1\" class=\"dataframe\">\n",
       "  <thead>\n",
       "    <tr style=\"text-align: right;\">\n",
       "      <th></th>\n",
       "      <th>base_speed</th>\n",
       "      <th>distance_from_wall</th>\n",
       "      <th>rotation_angle</th>\n",
       "      <th>distance_setpoint</th>\n",
       "      <th>docking_time</th>\n",
       "      <th>docking_distance</th>\n",
       "    </tr>\n",
       "  </thead>\n",
       "  <tbody>\n",
       "    <tr>\n",
       "      <th>43</th>\n",
       "      <td>2.5</td>\n",
       "      <td>603.075973</td>\n",
       "      <td>0.010256</td>\n",
       "      <td>500.0</td>\n",
       "      <td>6.054141</td>\n",
       "      <td>1049.0</td>\n",
       "    </tr>\n",
       "    <tr>\n",
       "      <th>44</th>\n",
       "      <td>2.5</td>\n",
       "      <td>630.000000</td>\n",
       "      <td>0.000000</td>\n",
       "      <td>500.0</td>\n",
       "      <td>11.070061</td>\n",
       "      <td>1690.0</td>\n",
       "    </tr>\n",
       "    <tr>\n",
       "      <th>45</th>\n",
       "      <td>2.5</td>\n",
       "      <td>426.184890</td>\n",
       "      <td>-0.505791</td>\n",
       "      <td>500.0</td>\n",
       "      <td>9.928071</td>\n",
       "      <td>1460.0</td>\n",
       "    </tr>\n",
       "    <tr>\n",
       "      <th>46</th>\n",
       "      <td>2.5</td>\n",
       "      <td>531.331454</td>\n",
       "      <td>0.389317</td>\n",
       "      <td>500.0</td>\n",
       "      <td>11.652685</td>\n",
       "      <td>1701.0</td>\n",
       "    </tr>\n",
       "    <tr>\n",
       "      <th>47</th>\n",
       "      <td>2.5</td>\n",
       "      <td>671.474343</td>\n",
       "      <td>0.380506</td>\n",
       "      <td>500.0</td>\n",
       "      <td>9.062397</td>\n",
       "      <td>1432.0</td>\n",
       "    </tr>\n",
       "  </tbody>\n",
       "</table>\n",
       "</div>"
      ],
      "text/plain": [
       "    base_speed  distance_from_wall  rotation_angle  distance_setpoint  \\\n",
       "43         2.5          603.075973        0.010256              500.0   \n",
       "44         2.5          630.000000        0.000000              500.0   \n",
       "45         2.5          426.184890       -0.505791              500.0   \n",
       "46         2.5          531.331454        0.389317              500.0   \n",
       "47         2.5          671.474343        0.380506              500.0   \n",
       "\n",
       "    docking_time  docking_distance  \n",
       "43      6.054141            1049.0  \n",
       "44     11.070061            1690.0  \n",
       "45      9.928071            1460.0  \n",
       "46     11.652685            1701.0  \n",
       "47      9.062397            1432.0  "
      ]
     },
     "execution_count": 12,
     "metadata": {},
     "output_type": "execute_result"
    }
   ],
   "source": [
    "df.tail()"
   ]
  },
  {
   "cell_type": "code",
   "execution_count": 65,
   "metadata": {},
   "outputs": [],
   "source": [
    "train_dataset = df.sample(frac=0.8, random_state=0)\n",
    "test_dataset = df.drop(train_dataset.index)"
   ]
  },
  {
   "cell_type": "code",
   "execution_count": 66,
   "metadata": {},
   "outputs": [
    {
     "data": {
      "image/png": "[encoded data removed]",
      "text/plain": [
       "<Figure size 720x720 with 20 Axes>"
      ]
     },
     "metadata": {
      "needs_background": "light"
     },
     "output_type": "display_data"
    }
   ],
   "source": [
    "plot=sns.pairplot(train_dataset[[ \n",
    "                            # 'base_speed',\n",
    "                            'distance_from_wall', \n",
    "                            'rotation_angle', \n",
    "                            # 'distance_setpoint', \n",
    "                            'docking_time', \n",
    "                            'docking_distance']], \n",
    "                            diag_kind='kde'\n",
    "                            )"
   ]
  },
  {
   "cell_type": "code",
   "execution_count": 67,
   "metadata": {},
   "outputs": [
    {
     "data": {
      "text/html": [
       "<div>\n",
       "<style scoped>\n",
       "    .dataframe tbody tr th:only-of-type {\n",
       "        vertical-align: middle;\n",
       "    }\n",
       "\n",
       "    .dataframe tbody tr th {\n",
       "        vertical-align: top;\n",
       "    }\n",
       "\n",
       "    .dataframe thead th {\n",
       "        text-align: right;\n",
       "    }\n",
       "</style>\n",
       "<table border=\"1\" class=\"dataframe\">\n",
       "  <thead>\n",
       "    <tr style=\"text-align: right;\">\n",
       "      <th></th>\n",
       "      <th>count</th>\n",
       "      <th>mean</th>\n",
       "      <th>std</th>\n",
       "      <th>min</th>\n",
       "      <th>25%</th>\n",
       "      <th>50%</th>\n",
       "      <th>75%</th>\n",
       "      <th>max</th>\n",
       "    </tr>\n",
       "  </thead>\n",
       "  <tbody>\n",
       "    <tr>\n",
       "      <th>base_speed</th>\n",
       "      <td>38.0</td>\n",
       "      <td>2.500000</td>\n",
       "      <td>0.000000</td>\n",
       "      <td>2.500000</td>\n",
       "      <td>2.500000</td>\n",
       "      <td>2.500000</td>\n",
       "      <td>2.500000</td>\n",
       "      <td>2.500000</td>\n",
       "    </tr>\n",
       "    <tr>\n",
       "      <th>distance_from_wall</th>\n",
       "      <td>38.0</td>\n",
       "      <td>514.894967</td>\n",
       "      <td>170.074067</td>\n",
       "      <td>292.993785</td>\n",
       "      <td>346.156783</td>\n",
       "      <td>495.939912</td>\n",
       "      <td>684.934576</td>\n",
       "      <td>809.669805</td>\n",
       "    </tr>\n",
       "    <tr>\n",
       "      <th>rotation_angle</th>\n",
       "      <td>38.0</td>\n",
       "      <td>-0.055673</td>\n",
       "      <td>0.346780</td>\n",
       "      <td>-1.271073</td>\n",
       "      <td>-0.209658</td>\n",
       "      <td>-0.002564</td>\n",
       "      <td>0.117051</td>\n",
       "      <td>0.677860</td>\n",
       "    </tr>\n",
       "    <tr>\n",
       "      <th>distance_setpoint</th>\n",
       "      <td>38.0</td>\n",
       "      <td>500.000000</td>\n",
       "      <td>0.000000</td>\n",
       "      <td>500.000000</td>\n",
       "      <td>500.000000</td>\n",
       "      <td>500.000000</td>\n",
       "      <td>500.000000</td>\n",
       "      <td>500.000000</td>\n",
       "    </tr>\n",
       "    <tr>\n",
       "      <th>docking_time</th>\n",
       "      <td>38.0</td>\n",
       "      <td>11.002662</td>\n",
       "      <td>7.331200</td>\n",
       "      <td>0.000599</td>\n",
       "      <td>6.068294</td>\n",
       "      <td>9.296343</td>\n",
       "      <td>15.497448</td>\n",
       "      <td>25.983634</td>\n",
       "    </tr>\n",
       "    <tr>\n",
       "      <th>docking_distance</th>\n",
       "      <td>38.0</td>\n",
       "      <td>1669.315789</td>\n",
       "      <td>1037.094775</td>\n",
       "      <td>0.000000</td>\n",
       "      <td>1034.750000</td>\n",
       "      <td>1457.000000</td>\n",
       "      <td>2285.250000</td>\n",
       "      <td>4000.000000</td>\n",
       "    </tr>\n",
       "  </tbody>\n",
       "</table>\n",
       "</div>"
      ],
      "text/plain": [
       "                    count         mean          std         min          25%  \\\n",
       "base_speed           38.0     2.500000     0.000000    2.500000     2.500000   \n",
       "distance_from_wall   38.0   514.894967   170.074067  292.993785   346.156783   \n",
       "rotation_angle       38.0    -0.055673     0.346780   -1.271073    -0.209658   \n",
       "distance_setpoint    38.0   500.000000     0.000000  500.000000   500.000000   \n",
       "docking_time         38.0    11.002662     7.331200    0.000599     6.068294   \n",
       "docking_distance     38.0  1669.315789  1037.094775    0.000000  1034.750000   \n",
       "\n",
       "                            50%          75%          max  \n",
       "base_speed             2.500000     2.500000     2.500000  \n",
       "distance_from_wall   495.939912   684.934576   809.669805  \n",
       "rotation_angle        -0.002564     0.117051     0.677860  \n",
       "distance_setpoint    500.000000   500.000000   500.000000  \n",
       "docking_time           9.296343    15.497448    25.983634  \n",
       "docking_distance    1457.000000  2285.250000  4000.000000  "
      ]
     },
     "execution_count": 67,
     "metadata": {},
     "output_type": "execute_result"
    }
   ],
   "source": [
    "train_dataset.describe().transpose()"
   ]
  },
  {
   "cell_type": "code",
   "execution_count": 68,
   "metadata": {},
   "outputs": [],
   "source": [
    "train_features = train_dataset.copy()\n",
    "test_features = test_dataset.copy()\n",
    "\n",
    "train_labels = train_features.pop('docking_distance')\n",
    "t=train_features.pop('docking_time')\n",
    "\n",
    "test_labels = test_features.pop('docking_distance')\n",
    "t=test_features.pop('docking_time')"
   ]
  },
  {
   "cell_type": "markdown",
   "metadata": {},
   "source": [
    "# Normalization"
   ]
  },
  {
   "cell_type": "code",
   "execution_count": 69,
   "metadata": {},
   "outputs": [
    {
     "data": {
      "text/html": [
       "<div>\n",
       "<style scoped>\n",
       "    .dataframe tbody tr th:only-of-type {\n",
       "        vertical-align: middle;\n",
       "    }\n",
       "\n",
       "    .dataframe tbody tr th {\n",
       "        vertical-align: top;\n",
       "    }\n",
       "\n",
       "    .dataframe thead th {\n",
       "        text-align: right;\n",
       "    }\n",
       "</style>\n",
       "<table border=\"1\" class=\"dataframe\">\n",
       "  <thead>\n",
       "    <tr style=\"text-align: right;\">\n",
       "      <th></th>\n",
       "      <th>mean</th>\n",
       "      <th>std</th>\n",
       "    </tr>\n",
       "  </thead>\n",
       "  <tbody>\n",
       "    <tr>\n",
       "      <th>base_speed</th>\n",
       "      <td>2.500000</td>\n",
       "      <td>0.000000</td>\n",
       "    </tr>\n",
       "    <tr>\n",
       "      <th>distance_from_wall</th>\n",
       "      <td>514.894967</td>\n",
       "      <td>170.074067</td>\n",
       "    </tr>\n",
       "    <tr>\n",
       "      <th>rotation_angle</th>\n",
       "      <td>-0.055673</td>\n",
       "      <td>0.346780</td>\n",
       "    </tr>\n",
       "    <tr>\n",
       "      <th>distance_setpoint</th>\n",
       "      <td>500.000000</td>\n",
       "      <td>0.000000</td>\n",
       "    </tr>\n",
       "    <tr>\n",
       "      <th>docking_time</th>\n",
       "      <td>11.002662</td>\n",
       "      <td>7.331200</td>\n",
       "    </tr>\n",
       "    <tr>\n",
       "      <th>docking_distance</th>\n",
       "      <td>1669.315789</td>\n",
       "      <td>1037.094775</td>\n",
       "    </tr>\n",
       "  </tbody>\n",
       "</table>\n",
       "</div>"
      ],
      "text/plain": [
       "                           mean          std\n",
       "base_speed             2.500000     0.000000\n",
       "distance_from_wall   514.894967   170.074067\n",
       "rotation_angle        -0.055673     0.346780\n",
       "distance_setpoint    500.000000     0.000000\n",
       "docking_time          11.002662     7.331200\n",
       "docking_distance    1669.315789  1037.094775"
      ]
     },
     "execution_count": 69,
     "metadata": {},
     "output_type": "execute_result"
    }
   ],
   "source": [
    "train_dataset.describe().transpose()[['mean', 'std']]"
   ]
  },
  {
   "cell_type": "code",
   "execution_count": 70,
   "metadata": {},
   "outputs": [],
   "source": [
    "normalizer = tf.keras.layers.Normalization(axis=-1)"
   ]
  },
  {
   "cell_type": "code",
   "execution_count": 71,
   "metadata": {},
   "outputs": [],
   "source": [
    "normalizer.adapt(np.array(train_features))"
   ]
  },
  {
   "cell_type": "code",
   "execution_count": 121,
   "metadata": {},
   "outputs": [
    {
     "name": "stdout",
     "output_type": "stream",
     "text": [
      "[[  2.5   514.895  -0.056 500.   ]]\n"
     ]
    }
   ],
   "source": [
    "print(normalizer.mean.numpy())"
   ]
  },
  {
   "cell_type": "markdown",
   "metadata": {},
   "source": [
    "# Regression with a deep neural network (DNN)"
   ]
  },
  {
   "cell_type": "code",
   "execution_count": 72,
   "metadata": {},
   "outputs": [],
   "source": [
    "def plot_loss(history):\n",
    "  plt.plot(history.history['loss'], label='loss')\n",
    "  plt.plot(history.history['val_loss'], label='val_loss')\n",
    "  plt.ylim([0, 2500])\n",
    "  plt.xlabel('Epoch')\n",
    "  plt.ylabel('Error')\n",
    "  plt.legend()\n",
    "  plt.grid(True)"
   ]
  },
  {
   "cell_type": "code",
   "execution_count": 152,
   "metadata": {},
   "outputs": [],
   "source": [
    "def build_and_compile(norm):\n",
    "    model = keras.Sequential([\n",
    "        norm,\n",
    "        layers.Dense(64, activation='relu'),\n",
    "        layers.Dense(128, activation='relu'),\n",
    "        layers.Dense(256, activation='relu'), \n",
    "        layers.Dense(128, activation='relu'), \n",
    "        layers.Dense(64, activation='relu'),\n",
    "        layers.Dense(1)\n",
    "    ])\n",
    "\n",
    "    model.compile(loss='mean_absolute_error', optimizer=tf.keras.optimizers.Adam(0.001))\n",
    "\n",
    "    return model"
   ]
  },
  {
   "cell_type": "markdown",
   "metadata": {},
   "source": [
    "## Multiple inputs"
   ]
  },
  {
   "cell_type": "code",
   "execution_count": 153,
   "metadata": {},
   "outputs": [
    {
     "name": "stdout",
     "output_type": "stream",
     "text": [
      "Model: \"sequential_21\"\n",
      "_________________________________________________________________\n",
      "Layer (type)                 Output Shape              Param #   \n",
      "=================================================================\n",
      "normalization_4 (Normalizati (None, 4)                 9         \n",
      "_________________________________________________________________\n",
      "dense_95 (Dense)             (None, 64)                320       \n",
      "_________________________________________________________________\n",
      "dense_96 (Dense)             (None, 128)               8320      \n",
      "_________________________________________________________________\n",
      "dense_97 (Dense)             (None, 256)               33024     \n",
      "_________________________________________________________________\n",
      "dense_98 (Dense)             (None, 128)               32896     \n",
      "_________________________________________________________________\n",
      "dense_99 (Dense)             (None, 64)                8256      \n",
      "_________________________________________________________________\n",
      "dense_100 (Dense)            (None, 1)                 65        \n",
      "=================================================================\n",
      "Total params: 82,890\n",
      "Trainable params: 82,881\n",
      "Non-trainable params: 9\n",
      "_________________________________________________________________\n"
     ]
    }
   ],
   "source": [
    "dnn_model = build_and_compile(normalizer)\n",
    "dnn_model.summary()"
   ]
  },
  {
   "cell_type": "code",
   "execution_count": 154,
   "metadata": {},
   "outputs": [
    {
     "name": "stdout",
     "output_type": "stream",
     "text": [
      "CPU times: user 12.7 s, sys: 1.43 s, total: 14.1 s\n",
      "Wall time: 11.4 s\n"
     ]
    }
   ],
   "source": [
    "%%time\n",
    "history = dnn_model.fit(\n",
    "    train_features,\n",
    "    train_labels,\n",
    "    validation_split=0.2,\n",
    "    verbose=0, epochs=550)"
   ]
  },
  {
   "cell_type": "code",
   "execution_count": 155,
   "metadata": {},
   "outputs": [
    {
     "data": {
      "image/png": "[encoded data removed]",
      "text/plain": [
       "<Figure size 432x288 with 1 Axes>"
      ]
     },
     "metadata": {
      "needs_background": "light"
     },
     "output_type": "display_data"
    }
   ],
   "source": [
    "plot_loss(history)"
   ]
  },
  {
   "cell_type": "code",
   "execution_count": 156,
   "metadata": {},
   "outputs": [
    {
     "name": "stdout",
     "output_type": "stream",
     "text": [
      "527.1953125\n"
     ]
    }
   ],
   "source": [
    "test_results = {}\n",
    "test_results['dnn_model'] = dnn_model.evaluate(test_features, test_labels, verbose=0)\n",
    "print(test_results['dnn_model'])"
   ]
  },
  {
   "cell_type": "markdown",
   "metadata": {},
   "source": [
    "# Make predictions"
   ]
  },
  {
   "cell_type": "code",
   "execution_count": 159,
   "metadata": {},
   "outputs": [
    {
     "name": "stdout",
     "output_type": "stream",
     "text": [
      "[2111.003 1003.294 3519.636 1621.624  957.356  782.079 1840.973  437.552\n",
      "  702.15  1684.342]\n",
      "[1356. 1010. 2698. 2006.  960. 2245. 1870. 1035. 1690. 1460.]\n",
      "[  75.5     -0.671   82.164  -38.438   -0.264 -146.292   -2.903  -59.745\n",
      "  -98.785   22.434]\n"
     ]
    }
   ],
   "source": [
    "test_predictions = dnn_model.predict(test_features).flatten()\n",
    "\n",
    "test_predictions = np.array(test_predictions)\n",
    "test_labels = np.array(list(test_labels))\n",
    "\n",
    "\n",
    "print(test_predictions)\n",
    "print(test_labels)\n",
    "\n",
    "errors = (test_predictions - test_labels)/10\n",
    "\n",
    "print(errors)\n",
    "\n",
    "# a = plt.axes(aspect='equal')\n",
    "# plt.scatter(test_labels, test_predictions)\n",
    "# plt.xlabel('True Values [Docking Distance]')\n",
    "# plt.ylabel('Predictions [Docking Distance]')\n",
    "# lims = [0, 50]\n",
    "# plt.xlim(lims)\n",
    "# plt.ylim(lims)\n",
    "# _ = plt.plot(lims, lims)"
   ]
  }
 ],
 "metadata": {
  "interpreter": {
   "hash": "916dbcbb3f70747c44a77c7bcd40155683ae19c65e1c03b4aa3499c5328201f1"
  },
  "kernelspec": {
   "display_name": "Python 3.8.10 64-bit",
   "language": "python",
   "name": "python3"
  },
  "language_info": {
   "codemirror_mode": {
    "name": "ipython",
    "version": 3
   },
   "file_extension": ".py",
   "mimetype": "text/x-python",
   "name": "python",
   "nbconvert_exporter": "python",
   "pygments_lexer": "ipython3",
   "version": "3.8.10"
  },
  "orig_nbformat": 4
 },
 "nbformat": 4,
 "nbformat_minor": 2
}
