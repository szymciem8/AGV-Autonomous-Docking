{
 "cells": [
  {
   "cell_type": "markdown",
   "metadata": {},
   "source": [
    "# Create proper dataset for learning"
   ]
  },
  {
   "cell_type": "markdown",
   "metadata": {},
   "source": [
    "Out of many different CSV files record parametres of the platform during docking, only valueble information has to be extracted. \n",
    "Those informations are:\n",
    "- Distance form the wall\n",
    "- Rotation\n",
    "- Distance setpoint\n",
    "- Distance needed for docking\n",
    "- Time of docking\n",
    "- Base speed"
   ]
  },
  {
   "cell_type": "code",
   "execution_count": 25,
   "metadata": {},
   "outputs": [],
   "source": [
    "import os\n",
    "import pandas as pd\n",
    "import csv"
   ]
  },
  {
   "cell_type": "code",
   "execution_count": 5,
   "metadata": {},
   "outputs": [],
   "source": [
    "file = 'ride_0_base_speed_2.8_without_rosbag'\n",
    "path = '../scripts/logs/new_500/' + file + '.csv'\n",
    "df = pd.read_csv(path)"
   ]
  },
  {
   "cell_type": "code",
   "execution_count": 10,
   "metadata": {},
   "outputs": [
    {
     "name": "stdout",
     "output_type": "stream",
     "text": [
      "  front[mm]  rear[mm]  PID Align setpoint  PID Distance setpoint  error[mm]  \\\n",
      "0     252.0     258.0           -0.201732                  500.0        6.0   \n",
      "1     252.0     258.0           -0.201732                  500.0        6.0   \n",
      "2     252.0     258.0           -0.201732                  500.0        6.0   \n",
      "3     252.0     258.0           -0.201732                  500.0        6.0   \n",
      "4     252.0     258.0           -0.201732                  500.0        6.0   \n",
      "\n",
      "   angle[rad]  distance[mm]   time[s]  \n",
      "0     0.03076    399.134182  0.269443  \n",
      "1     0.03076    399.134182  0.269511  \n",
      "2     0.03076    399.134182  0.269578  \n",
      "3     0.03076    399.134182  0.269642  \n",
      "4     0.03076    399.134182  0.269707  \n"
     ]
    }
   ],
   "source": [
    "print(df.head())"
   ]
  },
  {
   "cell_type": "code",
   "execution_count": 23,
   "metadata": {},
   "outputs": [
    {
     "name": "stdout",
     "output_type": "stream",
     "text": [
      "distance_from_wall=383.2931040915136,rotation_angle=-0.0153834017805951, distance_setpoint=500.0 docking_time=8.420879364013672, docking_distance=1210.0\n"
     ]
    }
   ],
   "source": [
    "distance_from_wall = df.iloc[0,6]\n",
    "rotation_angle = df.iloc[0, 5]\n",
    "distance_setpoint = df.iloc[0,3]\n",
    "docking_time = df.iloc[-2,1]\n",
    "docking_distance = df.iloc[-1,1]\n",
    "base_speed = 2.8\n",
    "\n",
    "row = [distance_from_wall, \n",
    "       rotation_angle, \n",
    "       distance_setpoint, \n",
    "       docking_time, \n",
    "       docking_distance]\n",
    "\n",
    "\n",
    "print(f'{distance_from_wall=},{rotation_angle=}, {distance_setpoint=} {docking_time=}, {docking_distance=}')"
   ]
  },
  {
   "cell_type": "code",
   "execution_count": null,
   "metadata": {},
   "outputs": [],
   "source": [
    "path = 'training_data.csv'"
   ]
  },
  {
   "cell_type": "code",
   "execution_count": 34,
   "metadata": {},
   "outputs": [],
   "source": [
    "f = open('training_data.csv', 'w')\n",
    "writer = csv.writer(f)\n",
    "\n",
    "writer.writerow(['base_speed', \n",
    "                 'distance_from_wall', \n",
    "                 'rotation_angle', \n",
    "                 'distance_setpoint', \n",
    "                 'docking_time', \n",
    "                 'docking_distance'])\n",
    "\n",
    "base_speed = 2.8\n",
    "for i in range(10):\n",
    "    if i >= 5: base_speed = 2.5\n",
    "    file = 'ride_' + str(i) + '_base_speed_' + str(base_speed) + '_without_rosbag'\n",
    "    path = '../scripts/logs/new_500/' + file + '.csv'\n",
    "    df = pd.read_csv(path)\n",
    "\n",
    "    distance_from_wall = df.iloc[0,6]\n",
    "    rotation_angle = df.iloc[0, 5]\n",
    "    distance_setpoint = df.iloc[0,3]\n",
    "    docking_time = df.iloc[-2,1]\n",
    "    docking_distance = df.iloc[-1,1]\n",
    "\n",
    "    row = [base_speed,\n",
    "        distance_from_wall, \n",
    "        rotation_angle, \n",
    "        distance_setpoint, \n",
    "        docking_time, \n",
    "        docking_distance]\n",
    "\n",
    "    writer.writerow(row)\n",
    "\n",
    "f.close()"
   ]
  }
 ],
 "metadata": {
  "interpreter": {
   "hash": "916dbcbb3f70747c44a77c7bcd40155683ae19c65e1c03b4aa3499c5328201f1"
  },
  "kernelspec": {
   "display_name": "Python 3.8.10 64-bit",
   "language": "python",
   "name": "python3"
  },
  "language_info": {
   "codemirror_mode": {
    "name": "ipython",
    "version": 3
   },
   "file_extension": ".py",
   "mimetype": "text/x-python",
   "name": "python",
   "nbconvert_exporter": "python",
   "pygments_lexer": "ipython3",
   "version": "3.8.10"
  },
  "orig_nbformat": 4
 },
 "nbformat": 4,
 "nbformat_minor": 2
}
