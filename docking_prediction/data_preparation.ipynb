{
 "cells": [
  {
   "cell_type": "markdown",
   "metadata": {},
   "source": [
    "# Create proper dataset for learning"
   ]
  },
  {
   "cell_type": "markdown",
   "metadata": {},
   "source": [
    "Out of many different CSV files record parametres of the platform during docking, only valueble information has to be extracted. \n",
    "Those informations are:\n",
    "- Distance form the wall\n",
    "- Rotation\n",
    "- Distance setpoint\n",
    "- Distance needed for docking\n",
    "- Time of docking\n",
    "- Base speed"
   ]
  },
  {
   "cell_type": "code",
   "execution_count": 1,
   "metadata": {},
   "outputs": [],
   "source": [
    "import os\n",
    "import pandas as pd\n",
    "import csv"
   ]
  },
  {
   "cell_type": "code",
   "execution_count": 10,
   "metadata": {},
   "outputs": [],
   "source": [
    "file = 'ride_0'\n",
    "path = '../scripts/logs/measurements/' + file + '.csv'\n",
    "df = pd.read_csv(path)"
   ]
  },
  {
   "cell_type": "code",
   "execution_count": 11,
   "metadata": {},
   "outputs": [
    {
     "name": "stdout",
     "output_type": "stream",
     "text": [
      "  front[mm]  rear[mm]  PID Align setpoint  PID Distance setpoint  error[mm]  \\\n",
      "0         0       0.0           -0.188316                  500.0        0.0   \n",
      "1         0       0.0           -0.188316                  500.0        0.0   \n",
      "2     158.0     149.0           -0.188316                  500.0       -9.0   \n",
      "3     158.0     149.0           -0.188316                  500.0       -9.0   \n",
      "4     158.0     149.0           -0.188316                  500.0       -9.0   \n",
      "\n",
      "   angle[rad]  distance[mm]       time[s]  \n",
      "0    0.000000    311.683591  1.642505e+09  \n",
      "1    0.000000    311.683591  1.642505e+09  \n",
      "2   -0.046121    311.683591  1.642505e+09  \n",
      "3   -0.046121    311.683591  1.642505e+09  \n",
      "4   -0.046121    311.683591  1.642505e+09  \n"
     ]
    }
   ],
   "source": [
    "print(df.head())"
   ]
  },
  {
   "cell_type": "code",
   "execution_count": 12,
   "metadata": {},
   "outputs": [
    {
     "name": "stdout",
     "output_type": "stream",
     "text": [
      "distance_from_wall=311.683590528326,rotation_angle=0.0, distance_setpoint=500.0 docking_time=1356.0, docking_distance=2.5\n"
     ]
    }
   ],
   "source": [
    "distance_from_wall = df.iloc[0,6]\n",
    "rotation_angle = df.iloc[0, 5]\n",
    "distance_setpoint = df.iloc[0,3]\n",
    "docking_time = df.iloc[-2,1]\n",
    "docking_distance = df.iloc[-1,1]\n",
    "base_speed = 2.8\n",
    "\n",
    "row = [distance_from_wall, \n",
    "       rotation_angle, \n",
    "       distance_setpoint, \n",
    "       docking_time, \n",
    "       docking_distance]\n",
    "\n",
    "\n",
    "print(f'{distance_from_wall=},{rotation_angle=}, {distance_setpoint=} {docking_time=}, {docking_distance=}')"
   ]
  },
  {
   "cell_type": "code",
   "execution_count": 34,
   "metadata": {},
   "outputs": [],
   "source": [
    "def clear_data(df):\n",
    "        start_time = df.iloc[0,7]\n",
    "        df = df[df['distance[mm]'] > 150.0]\n",
    "        df['time[s]'] = df['time[s]'] - start_time\n",
    "        df = df.apply(pd.to_numeric)\n",
    "\n",
    "        return df"
   ]
  },
  {
   "cell_type": "code",
   "execution_count": 14,
   "metadata": {},
   "outputs": [],
   "source": [
    "path = 'training_data.csv'"
   ]
  },
  {
   "cell_type": "code",
   "execution_count": 36,
   "metadata": {},
   "outputs": [
    {
     "name": "stderr",
     "output_type": "stream",
     "text": [
      "/tmp/ipykernel_25952/3733329275.py:4: SettingWithCopyWarning: \n",
      "A value is trying to be set on a copy of a slice from a DataFrame.\n",
      "Try using .loc[row_indexer,col_indexer] = value instead\n",
      "\n",
      "See the caveats in the documentation: https://pandas.pydata.org/pandas-docs/stable/user_guide/indexing.html#returning-a-view-versus-a-copy\n",
      "  df['time[s]'] = df['time[s]'] - start_time\n"
     ]
    },
    {
     "name": "stdout",
     "output_type": "stream",
     "text": [
      "8.349520206451416\n",
      "[2.5, 311.683590528326, 0.0, 500.0, 8.349520206451416, 1356.0]\n",
      "8.621902704238892\n",
      "[2.5, 809.6698052815597, 0.0, 500.0, 8.621902704238892, 1433.0]\n",
      "7.006590366363525\n",
      "[2.5, 653.0140309848181, 0.0, 500.0, 7.006590366363525, 1206.0]\n",
      "5.637765169143677\n",
      "[2.5, 671.2700335627806, 0.0, 500.0, 5.637765169143677, 1010.0]\n",
      "25.07672882080078\n",
      "[2.5, 345.6926184306973, 0.0, 500.0, 25.07672882080078, 3385.0]\n",
      "8.921315908432007\n",
      "[2.5, 441.9314514808781, 0.0, 500.0, 8.921315908432007, 1381.0]\n",
      "4.773046016693115\n",
      "[2.5, 721.5949788816674, 0.0, 500.0, 4.773046016693115, 825.0]\n",
      "13.2961905002594\n",
      "[2.5, 496.4401854477623, 0.3626988206610193, 500.0, 13.2961905002594, 1891.0]\n",
      "19.162829399108887\n",
      "[2.5, 713.2455705452638, 0.6778600836988595, 500.0, 19.162829399108887, 2735.0]\n",
      "19.03073000907898\n",
      "[2.5, 317.96475931262273, -0.9867152717720892, 500.0, 19.03073000907898, 2698.0]\n",
      "15.665966272354126\n",
      "[2.5, 313.71632692696005, -1.2710728605875563, 500.0, 15.665966272354126, 2375.0]\n",
      "16.443600177764893\n",
      "[2.5, 689.4213197969543, -0.1426149295705806, 500.0, 16.443600177764893, 2405.0]\n",
      "11.71922516822815\n",
      "[2.5, 335.1695615047339, -0.3760777081031161, 500.0, 11.71922516822815, 1745.0]\n",
      "12.812267541885376\n",
      "[2.5, 318.04531421646027, 0.0, 500.0, 12.812267541885376, 1820.0]\n",
      "5.021280288696289\n",
      "[2.5, 612.8661767855592, 0.2510026866430346, 500.0, 5.021280288696289, 895.0]\n",
      "23.2132351398468\n",
      "[2.5, 344.0211990314117, -0.335532223905894, 500.0, 23.2132351398468, 3218.0]\n",
      "9.53028917312622\n",
      "[2.5, 714.0031650411311, -0.0614609558827659, 500.0, 9.53028917312622, 1481.0]\n",
      "2.985639810562134\n",
      "[2.5, 535.3173171659996, 0.1526493283952651, 500.0, 2.985639810562134, 595.0]\n",
      "25.98363423347473\n",
      "['2.5', 348.4590916960182, -0.6556956262415363, 500.0, '25.98363423347473', '>4000']\n",
      "14.302181720733644\n",
      "[2.5, 480.4406473251705, 0.3124915597345191, 500.0, 14.302181720733644, 2006.0]\n",
      "12.388715267181396\n",
      "[2.5, 770.8183889633439, -0.2267988480538859, 500.0, 12.388715267181396, 1995.0]\n",
      "5.4609034061431885\n",
      "[2.5, 728.7347878383191, 0.2558085646153719, 500.0, 5.4609034061431885, 960.0]\n",
      "6.427487373352051\n",
      "[2.5, 369.0427861843151, -0.1526493283952651, 500.0, 6.427487373352051, 1070.0]\n",
      "15.641419172286987\n",
      "[2.5, 474.61460233213216, -0.2606023917473409, 500.0, 15.641419172286987, 2245.0]\n",
      "1.8407957553863523\n",
      "[2.5, 489.89810557518376, 0.1973955598498807, 500.0, 1.8407957553863523, 384.0]\n",
      "1.5357286930084229\n",
      "[2.5, 519.2432790171559, -0.1875144585218141, 500.0, 1.5357286930084229, 340.0]\n",
      "24.73629856109619\n",
      "['2.5', 717.2893521463678, -0.2170393981582582, 500.0, '24.73629856109619', '>4000']\n"
     ]
    },
    {
     "ename": "EmptyDataError",
     "evalue": "No columns to parse from file",
     "output_type": "error",
     "traceback": [
      "\u001b[0;31m---------------------------------------------------------------------------\u001b[0m",
      "\u001b[0;31mEmptyDataError\u001b[0m                            Traceback (most recent call last)",
      "\u001b[0;32m/tmp/ipykernel_25952/833990980.py\u001b[0m in \u001b[0;36m<module>\u001b[0;34m\u001b[0m\n\u001b[1;32m     13\u001b[0m     \u001b[0mfile\u001b[0m \u001b[0;34m=\u001b[0m \u001b[0;34m'ride_'\u001b[0m \u001b[0;34m+\u001b[0m \u001b[0mstr\u001b[0m\u001b[0;34m(\u001b[0m\u001b[0mi\u001b[0m\u001b[0;34m)\u001b[0m  \u001b[0;34m+\u001b[0m \u001b[0;34m'.csv'\u001b[0m\u001b[0;34m\u001b[0m\u001b[0;34m\u001b[0m\u001b[0m\n\u001b[1;32m     14\u001b[0m     \u001b[0mpath\u001b[0m \u001b[0;34m=\u001b[0m \u001b[0;34m'../scripts/logs/measurements/'\u001b[0m \u001b[0;34m+\u001b[0m \u001b[0mfile\u001b[0m\u001b[0;34m\u001b[0m\u001b[0;34m\u001b[0m\u001b[0m\n\u001b[0;32m---> 15\u001b[0;31m     \u001b[0mdf\u001b[0m \u001b[0;34m=\u001b[0m \u001b[0mpd\u001b[0m\u001b[0;34m.\u001b[0m\u001b[0mread_csv\u001b[0m\u001b[0;34m(\u001b[0m\u001b[0mpath\u001b[0m\u001b[0;34m)\u001b[0m\u001b[0;34m\u001b[0m\u001b[0;34m\u001b[0m\u001b[0m\n\u001b[0m\u001b[1;32m     16\u001b[0m \u001b[0;34m\u001b[0m\u001b[0m\n\u001b[1;32m     17\u001b[0m \u001b[0;34m\u001b[0m\u001b[0m\n",
      "\u001b[0;32m~/.local/lib/python3.8/site-packages/pandas/util/_decorators.py\u001b[0m in \u001b[0;36mwrapper\u001b[0;34m(*args, **kwargs)\u001b[0m\n\u001b[1;32m    309\u001b[0m                     \u001b[0mstacklevel\u001b[0m\u001b[0;34m=\u001b[0m\u001b[0mstacklevel\u001b[0m\u001b[0;34m,\u001b[0m\u001b[0;34m\u001b[0m\u001b[0;34m\u001b[0m\u001b[0m\n\u001b[1;32m    310\u001b[0m                 )\n\u001b[0;32m--> 311\u001b[0;31m             \u001b[0;32mreturn\u001b[0m \u001b[0mfunc\u001b[0m\u001b[0;34m(\u001b[0m\u001b[0;34m*\u001b[0m\u001b[0margs\u001b[0m\u001b[0;34m,\u001b[0m \u001b[0;34m**\u001b[0m\u001b[0mkwargs\u001b[0m\u001b[0;34m)\u001b[0m\u001b[0;34m\u001b[0m\u001b[0;34m\u001b[0m\u001b[0m\n\u001b[0m\u001b[1;32m    312\u001b[0m \u001b[0;34m\u001b[0m\u001b[0m\n\u001b[1;32m    313\u001b[0m         \u001b[0;32mreturn\u001b[0m \u001b[0mwrapper\u001b[0m\u001b[0;34m\u001b[0m\u001b[0;34m\u001b[0m\u001b[0m\n",
      "\u001b[0;32m~/.local/lib/python3.8/site-packages/pandas/io/parsers/readers.py\u001b[0m in \u001b[0;36mread_csv\u001b[0;34m(filepath_or_buffer, sep, delimiter, header, names, index_col, usecols, squeeze, prefix, mangle_dupe_cols, dtype, engine, converters, true_values, false_values, skipinitialspace, skiprows, skipfooter, nrows, na_values, keep_default_na, na_filter, verbose, skip_blank_lines, parse_dates, infer_datetime_format, keep_date_col, date_parser, dayfirst, cache_dates, iterator, chunksize, compression, thousands, decimal, lineterminator, quotechar, quoting, doublequote, escapechar, comment, encoding, encoding_errors, dialect, error_bad_lines, warn_bad_lines, on_bad_lines, delim_whitespace, low_memory, memory_map, float_precision, storage_options)\u001b[0m\n\u001b[1;32m    584\u001b[0m     \u001b[0mkwds\u001b[0m\u001b[0;34m.\u001b[0m\u001b[0mupdate\u001b[0m\u001b[0;34m(\u001b[0m\u001b[0mkwds_defaults\u001b[0m\u001b[0;34m)\u001b[0m\u001b[0;34m\u001b[0m\u001b[0;34m\u001b[0m\u001b[0m\n\u001b[1;32m    585\u001b[0m \u001b[0;34m\u001b[0m\u001b[0m\n\u001b[0;32m--> 586\u001b[0;31m     \u001b[0;32mreturn\u001b[0m \u001b[0m_read\u001b[0m\u001b[0;34m(\u001b[0m\u001b[0mfilepath_or_buffer\u001b[0m\u001b[0;34m,\u001b[0m \u001b[0mkwds\u001b[0m\u001b[0;34m)\u001b[0m\u001b[0;34m\u001b[0m\u001b[0;34m\u001b[0m\u001b[0m\n\u001b[0m\u001b[1;32m    587\u001b[0m \u001b[0;34m\u001b[0m\u001b[0m\n\u001b[1;32m    588\u001b[0m \u001b[0;34m\u001b[0m\u001b[0m\n",
      "\u001b[0;32m~/.local/lib/python3.8/site-packages/pandas/io/parsers/readers.py\u001b[0m in \u001b[0;36m_read\u001b[0;34m(filepath_or_buffer, kwds)\u001b[0m\n\u001b[1;32m    480\u001b[0m \u001b[0;34m\u001b[0m\u001b[0m\n\u001b[1;32m    481\u001b[0m     \u001b[0;31m# Create the parser.\u001b[0m\u001b[0;34m\u001b[0m\u001b[0;34m\u001b[0m\u001b[0;34m\u001b[0m\u001b[0m\n\u001b[0;32m--> 482\u001b[0;31m     \u001b[0mparser\u001b[0m \u001b[0;34m=\u001b[0m \u001b[0mTextFileReader\u001b[0m\u001b[0;34m(\u001b[0m\u001b[0mfilepath_or_buffer\u001b[0m\u001b[0;34m,\u001b[0m \u001b[0;34m**\u001b[0m\u001b[0mkwds\u001b[0m\u001b[0;34m)\u001b[0m\u001b[0;34m\u001b[0m\u001b[0;34m\u001b[0m\u001b[0m\n\u001b[0m\u001b[1;32m    483\u001b[0m \u001b[0;34m\u001b[0m\u001b[0m\n\u001b[1;32m    484\u001b[0m     \u001b[0;32mif\u001b[0m \u001b[0mchunksize\u001b[0m \u001b[0;32mor\u001b[0m \u001b[0miterator\u001b[0m\u001b[0;34m:\u001b[0m\u001b[0;34m\u001b[0m\u001b[0;34m\u001b[0m\u001b[0m\n",
      "\u001b[0;32m~/.local/lib/python3.8/site-packages/pandas/io/parsers/readers.py\u001b[0m in \u001b[0;36m__init__\u001b[0;34m(self, f, engine, **kwds)\u001b[0m\n\u001b[1;32m    809\u001b[0m             \u001b[0mself\u001b[0m\u001b[0;34m.\u001b[0m\u001b[0moptions\u001b[0m\u001b[0;34m[\u001b[0m\u001b[0;34m\"has_index_names\"\u001b[0m\u001b[0;34m]\u001b[0m \u001b[0;34m=\u001b[0m \u001b[0mkwds\u001b[0m\u001b[0;34m[\u001b[0m\u001b[0;34m\"has_index_names\"\u001b[0m\u001b[0;34m]\u001b[0m\u001b[0;34m\u001b[0m\u001b[0;34m\u001b[0m\u001b[0m\n\u001b[1;32m    810\u001b[0m \u001b[0;34m\u001b[0m\u001b[0m\n\u001b[0;32m--> 811\u001b[0;31m         \u001b[0mself\u001b[0m\u001b[0;34m.\u001b[0m\u001b[0m_engine\u001b[0m \u001b[0;34m=\u001b[0m \u001b[0mself\u001b[0m\u001b[0;34m.\u001b[0m\u001b[0m_make_engine\u001b[0m\u001b[0;34m(\u001b[0m\u001b[0mself\u001b[0m\u001b[0;34m.\u001b[0m\u001b[0mengine\u001b[0m\u001b[0;34m)\u001b[0m\u001b[0;34m\u001b[0m\u001b[0;34m\u001b[0m\u001b[0m\n\u001b[0m\u001b[1;32m    812\u001b[0m \u001b[0;34m\u001b[0m\u001b[0m\n\u001b[1;32m    813\u001b[0m     \u001b[0;32mdef\u001b[0m \u001b[0mclose\u001b[0m\u001b[0;34m(\u001b[0m\u001b[0mself\u001b[0m\u001b[0;34m)\u001b[0m\u001b[0;34m:\u001b[0m\u001b[0;34m\u001b[0m\u001b[0;34m\u001b[0m\u001b[0m\n",
      "\u001b[0;32m~/.local/lib/python3.8/site-packages/pandas/io/parsers/readers.py\u001b[0m in \u001b[0;36m_make_engine\u001b[0;34m(self, engine)\u001b[0m\n\u001b[1;32m   1038\u001b[0m             )\n\u001b[1;32m   1039\u001b[0m         \u001b[0;31m# error: Too many arguments for \"ParserBase\"\u001b[0m\u001b[0;34m\u001b[0m\u001b[0;34m\u001b[0m\u001b[0;34m\u001b[0m\u001b[0m\n\u001b[0;32m-> 1040\u001b[0;31m         \u001b[0;32mreturn\u001b[0m \u001b[0mmapping\u001b[0m\u001b[0;34m[\u001b[0m\u001b[0mengine\u001b[0m\u001b[0;34m]\u001b[0m\u001b[0;34m(\u001b[0m\u001b[0mself\u001b[0m\u001b[0;34m.\u001b[0m\u001b[0mf\u001b[0m\u001b[0;34m,\u001b[0m \u001b[0;34m**\u001b[0m\u001b[0mself\u001b[0m\u001b[0;34m.\u001b[0m\u001b[0moptions\u001b[0m\u001b[0;34m)\u001b[0m  \u001b[0;31m# type: ignore[call-arg]\u001b[0m\u001b[0;34m\u001b[0m\u001b[0;34m\u001b[0m\u001b[0m\n\u001b[0m\u001b[1;32m   1041\u001b[0m \u001b[0;34m\u001b[0m\u001b[0m\n\u001b[1;32m   1042\u001b[0m     \u001b[0;32mdef\u001b[0m \u001b[0m_failover_to_python\u001b[0m\u001b[0;34m(\u001b[0m\u001b[0mself\u001b[0m\u001b[0;34m)\u001b[0m\u001b[0;34m:\u001b[0m\u001b[0;34m\u001b[0m\u001b[0;34m\u001b[0m\u001b[0m\n",
      "\u001b[0;32m~/.local/lib/python3.8/site-packages/pandas/io/parsers/c_parser_wrapper.py\u001b[0m in \u001b[0;36m__init__\u001b[0;34m(self, src, **kwds)\u001b[0m\n\u001b[1;32m     67\u001b[0m         \u001b[0mkwds\u001b[0m\u001b[0;34m[\u001b[0m\u001b[0;34m\"dtype\"\u001b[0m\u001b[0;34m]\u001b[0m \u001b[0;34m=\u001b[0m \u001b[0mensure_dtype_objs\u001b[0m\u001b[0;34m(\u001b[0m\u001b[0mkwds\u001b[0m\u001b[0;34m.\u001b[0m\u001b[0mget\u001b[0m\u001b[0;34m(\u001b[0m\u001b[0;34m\"dtype\"\u001b[0m\u001b[0;34m,\u001b[0m \u001b[0;32mNone\u001b[0m\u001b[0;34m)\u001b[0m\u001b[0;34m)\u001b[0m\u001b[0;34m\u001b[0m\u001b[0;34m\u001b[0m\u001b[0m\n\u001b[1;32m     68\u001b[0m         \u001b[0;32mtry\u001b[0m\u001b[0;34m:\u001b[0m\u001b[0;34m\u001b[0m\u001b[0;34m\u001b[0m\u001b[0m\n\u001b[0;32m---> 69\u001b[0;31m             \u001b[0mself\u001b[0m\u001b[0;34m.\u001b[0m\u001b[0m_reader\u001b[0m \u001b[0;34m=\u001b[0m \u001b[0mparsers\u001b[0m\u001b[0;34m.\u001b[0m\u001b[0mTextReader\u001b[0m\u001b[0;34m(\u001b[0m\u001b[0mself\u001b[0m\u001b[0;34m.\u001b[0m\u001b[0mhandles\u001b[0m\u001b[0;34m.\u001b[0m\u001b[0mhandle\u001b[0m\u001b[0;34m,\u001b[0m \u001b[0;34m**\u001b[0m\u001b[0mkwds\u001b[0m\u001b[0;34m)\u001b[0m\u001b[0;34m\u001b[0m\u001b[0;34m\u001b[0m\u001b[0m\n\u001b[0m\u001b[1;32m     70\u001b[0m         \u001b[0;32mexcept\u001b[0m \u001b[0mException\u001b[0m\u001b[0;34m:\u001b[0m\u001b[0;34m\u001b[0m\u001b[0;34m\u001b[0m\u001b[0m\n\u001b[1;32m     71\u001b[0m             \u001b[0mself\u001b[0m\u001b[0;34m.\u001b[0m\u001b[0mhandles\u001b[0m\u001b[0;34m.\u001b[0m\u001b[0mclose\u001b[0m\u001b[0;34m(\u001b[0m\u001b[0;34m)\u001b[0m\u001b[0;34m\u001b[0m\u001b[0;34m\u001b[0m\u001b[0m\n",
      "\u001b[0;32m~/.local/lib/python3.8/site-packages/pandas/_libs/parsers.pyx\u001b[0m in \u001b[0;36mpandas._libs.parsers.TextReader.__cinit__\u001b[0;34m()\u001b[0m\n",
      "\u001b[0;31mEmptyDataError\u001b[0m: No columns to parse from file"
     ]
    }
   ],
   "source": [
    "f = open('training_data.csv', 'w')\n",
    "writer = csv.writer(f)\n",
    "\n",
    "writer.writerow(['base_speed',\n",
    "                 'distance_from_wall', \n",
    "                 'rotation_angle', \n",
    "                 'distance_setpoint', \n",
    "                 'docking_time', \n",
    "                 'docking_distance'])\n",
    "\n",
    "\n",
    "for i in range(49):\n",
    "    file = 'ride_' + str(i)  + '.csv'\n",
    "    path = '../scripts/logs/measurements/' + file\n",
    "    df = pd.read_csv(path)\n",
    "\n",
    "\n",
    "    docking_time = df.iloc[-3,1]\n",
    "    docking_distance = df.iloc[-2,1]\n",
    "    base_speed = df.iloc[-1,1]\n",
    "    df = clear_data(df)\n",
    "    distance_from_wall = df.iloc[0,6]\n",
    "    rotation_angle = df.iloc[0, 5]\n",
    "    distance_setpoint = df.iloc[0,3]\n",
    "\n",
    "    print(docking_time)\n",
    "\n",
    "    row = [base_speed,\n",
    "           distance_from_wall, \n",
    "           rotation_angle, \n",
    "           distance_setpoint, \n",
    "           docking_time, \n",
    "           docking_distance]\n",
    "\n",
    "    print(row)\n",
    "    writer.writerow(row)\n",
    "\n",
    "\n",
    "\n",
    "f.close()"
   ]
  }
 ],
 "metadata": {
  "interpreter": {
   "hash": "916dbcbb3f70747c44a77c7bcd40155683ae19c65e1c03b4aa3499c5328201f1"
  },
  "kernelspec": {
   "display_name": "Python 3.8.10 64-bit",
   "language": "python",
   "name": "python3"
  },
  "language_info": {
   "codemirror_mode": {
    "name": "ipython",
    "version": 3
   },
   "file_extension": ".py",
   "mimetype": "text/x-python",
   "name": "python",
   "nbconvert_exporter": "python",
   "pygments_lexer": "ipython3",
   "version": "3.8.10"
  },
  "orig_nbformat": 4
 },
 "nbformat": 4,
 "nbformat_minor": 2
}
