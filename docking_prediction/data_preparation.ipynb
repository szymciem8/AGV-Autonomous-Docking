{
 "cells": [
  {
   "cell_type": "markdown",
   "metadata": {},
   "source": [
    "# Create proper dataset for learning"
   ]
  },
  {
   "cell_type": "markdown",
   "metadata": {},
   "source": [
    "Out of many different CSV files record parametres of the platform during docking, only valueble information has to be extracted. \n",
    "Those informations are:\n",
    "- Distance form the wall\n",
    "- Rotation\n",
    "- Distance setpoint\n",
    "- Distance needed for docking\n",
    "- Time of docking\n",
    "- Base speed"
   ]
  },
  {
   "cell_type": "code",
   "execution_count": 60,
   "metadata": {},
   "outputs": [],
   "source": [
    "import os\n",
    "import pandas as pd\n",
    "import csv\n",
    "import numpy as np\n",
    "import random"
   ]
  },
  {
   "cell_type": "code",
   "execution_count": 40,
   "metadata": {},
   "outputs": [],
   "source": [
    "file = 'ride_49'\n",
    "path = '../scripts/logs/measurements/' + file + '.csv'\n",
    "df = pd.read_csv(path)"
   ]
  },
  {
   "cell_type": "code",
   "execution_count": 41,
   "metadata": {},
   "outputs": [
    {
     "name": "stdout",
     "output_type": "stream",
     "text": [
      "  front[mm]  rear[mm]  PID Align setpoint  PID Distance setpoint  error[mm]  \\\n",
      "0     599.0     517.0            0.224162                  500.0      -82.0   \n",
      "1     599.0     517.0            0.224162                  500.0      -82.0   \n",
      "2     599.0     517.0            0.224162                  500.0      -82.0   \n",
      "3     599.0     517.0            0.224162                  500.0      -82.0   \n",
      "4     599.0     517.0            0.224162                  500.0      -82.0   \n",
      "\n",
      "   angle[rad]  distance[mm]       time[s]  rw_speed[rad/s]  lw_speeed[rad/s]  \n",
      "0   -0.398064    724.162304  1.642520e+09              0.0               0.0  \n",
      "1   -0.398064    724.162304  1.642520e+09              0.0               0.0  \n",
      "2   -0.398064    724.162304  1.642520e+09              0.0               0.0  \n",
      "3   -0.398064    724.162304  1.642520e+09              0.0               0.0  \n",
      "4   -0.398064    724.162304  1.642520e+09              0.0               0.0  \n"
     ]
    }
   ],
   "source": [
    "print(df.head())"
   ]
  },
  {
   "cell_type": "code",
   "execution_count": 42,
   "metadata": {},
   "outputs": [
    {
     "name": "stdout",
     "output_type": "stream",
     "text": [
      "distance_from_wall=724.1623036701136,rotation_angle=-0.3980638352881161, distance_setpoint=500.0 docking_time=2925.0, docking_distance=2.5\n"
     ]
    }
   ],
   "source": [
    "distance_from_wall = df.iloc[0,6]\n",
    "rotation_angle = df.iloc[0, 5]\n",
    "distance_setpoint = df.iloc[0,3]\n",
    "docking_time = df.iloc[-2,1]\n",
    "docking_distance = df.iloc[-1,1]\n",
    "base_speed = 2.8\n",
    "\n",
    "row = [distance_from_wall, \n",
    "       rotation_angle, \n",
    "       distance_setpoint, \n",
    "       docking_time, \n",
    "       docking_distance]\n",
    "\n",
    "\n",
    "print(f'{distance_from_wall=},{rotation_angle=}, {distance_setpoint=} {docking_time=}, {docking_distance=}')"
   ]
  },
  {
   "cell_type": "code",
   "execution_count": 2,
   "metadata": {},
   "outputs": [],
   "source": [
    "def clear_data(df):\n",
    "        start_time = df.iloc[0,7]\n",
    "        df = df[df['distance[mm]'] > 150.0]\n",
    "        df['time[s]'] = df['time[s]'] - start_time\n",
    "        df = df.apply(pd.to_numeric)\n",
    "\n",
    "        return df"
   ]
  },
  {
   "cell_type": "code",
   "execution_count": 216,
   "metadata": {},
   "outputs": [],
   "source": [
    "path = 'training_data.csv'"
   ]
  },
  {
   "cell_type": "code",
   "execution_count": 10,
   "metadata": {},
   "outputs": [],
   "source": [
    "path = 'extended_training_data.csv'"
   ]
  },
  {
   "cell_type": "code",
   "execution_count": 233,
   "metadata": {},
   "outputs": [],
   "source": [
    "def add_noise(value):\n",
    "    value += np.random.normal(0, 1) * value/100\n",
    "    return value"
   ]
  },
  {
   "cell_type": "code",
   "execution_count": 222,
   "metadata": {},
   "outputs": [
    {
     "data": {
      "text/plain": [
       "0.9676114897823551"
      ]
     },
     "execution_count": 222,
     "metadata": {},
     "output_type": "execute_result"
    }
   ],
   "source": [
    "add_noise(1)"
   ]
  },
  {
   "cell_type": "code",
   "execution_count": 217,
   "metadata": {},
   "outputs": [
    {
     "name": "stderr",
     "output_type": "stream",
     "text": [
      "/tmp/ipykernel_37068/3733329275.py:4: SettingWithCopyWarning: \n",
      "A value is trying to be set on a copy of a slice from a DataFrame.\n",
      "Try using .loc[row_indexer,col_indexer] = value instead\n",
      "\n",
      "See the caveats in the documentation: https://pandas.pydata.org/pandas-docs/stable/user_guide/indexing.html#returning-a-view-versus-a-copy\n",
      "  df['time[s]'] = df['time[s]'] - start_time\n"
     ]
    },
    {
     "name": "stdout",
     "output_type": "stream",
     "text": [
      "27\n",
      "48\n"
     ]
    }
   ],
   "source": [
    "f = open(path, 'w')\n",
    "writer = csv.writer(f)\n",
    "\n",
    "\n",
    "writer.writerow(['base_speed',\n",
    "                 'distance_from_wall', \n",
    "                 'rotation_angle', \n",
    "                 'distance_setpoint', \n",
    "                 'docking_time', \n",
    "                 'docking_distance'])\n",
    "\n",
    "\n",
    "for n in range(49):\n",
    "\n",
    "    try:\n",
    "        file = 'ride_' + str(n)  + '.csv'\n",
    "        path = '../scripts/logs/measurements/' + file\n",
    "        df = pd.read_csv(path)\n",
    "\n",
    "        docking_time = df.iloc[-3,1]\n",
    "        docking_distance = df.iloc[-2,1]\n",
    "        base_speed = df.iloc[-1,1]\n",
    "        df = clear_data(df)\n",
    "        distance_from_wall = df.iloc[0,6]\n",
    "        rotation_angle = df.iloc[0, 5]\n",
    "        distance_setpoint = df.iloc[0,3]\n",
    "\n",
    "        row = [base_speed,\n",
    "                distance_from_wall, \n",
    "                rotation_angle, \n",
    "                distance_setpoint, \n",
    "                docking_time, \n",
    "                docking_distance]\n",
    "\n",
    "        # print(row)\n",
    "        writer.writerow(row)\n",
    "    except:\n",
    "        print(n)\n",
    "\n",
    "\n",
    "f.close()"
   ]
  },
  {
   "cell_type": "code",
   "execution_count": 235,
   "metadata": {},
   "outputs": [
    {
     "name": "stderr",
     "output_type": "stream",
     "text": [
      "/tmp/ipykernel_37068/3733329275.py:4: SettingWithCopyWarning: \n",
      "A value is trying to be set on a copy of a slice from a DataFrame.\n",
      "Try using .loc[row_indexer,col_indexer] = value instead\n",
      "\n",
      "See the caveats in the documentation: https://pandas.pydata.org/pandas-docs/stable/user_guide/indexing.html#returning-a-view-versus-a-copy\n",
      "  df['time[s]'] = df['time[s]'] - start_time\n"
     ]
    },
    {
     "name": "stdout",
     "output_type": "stream",
     "text": [
      "18\n",
      "26\n",
      "27\n",
      "48\n"
     ]
    }
   ],
   "source": [
    "path = 'extended_training_data.csv'\n",
    "f = open(path, 'w')\n",
    "writer = csv.writer(f)\n",
    "\n",
    "\n",
    "writer.writerow(['base_speed',\n",
    "                 'distance_from_wall', \n",
    "                 'rotation_angle', \n",
    "                 'distance_setpoint', \n",
    "                 'docking_time', \n",
    "                 'docking_distance'])\n",
    "\n",
    "\n",
    "for n in range(49):\n",
    "\n",
    "    try:\n",
    "        file = 'ride_' + str(n)  + '.csv'\n",
    "        path = '../scripts/logs/measurements/' + file\n",
    "        df = pd.read_csv(path)\n",
    "\n",
    "        docking_time = df.iloc[-3,1]\n",
    "        docking_distance = df.iloc[-2,1]\n",
    "        base_speed = df.iloc[-1,1]\n",
    "        df = clear_data(df)\n",
    "        distance_from_wall = df.iloc[0,6]\n",
    "        rotation_angle = df.iloc[0, 5]\n",
    "        distance_setpoint = df.iloc[0,3]\n",
    "\n",
    "        for m in range(100):\n",
    "\n",
    "            row = [base_speed,\n",
    "            add_noise(distance_from_wall),\n",
    "            add_noise(rotation_angle), \n",
    "            distance_setpoint, \n",
    "            add_noise(docking_time), \n",
    "            add_noise(docking_distance)]\n",
    "\n",
    "            # print(row)\n",
    "            writer.writerow(row)\n",
    "    except:\n",
    "        print(n)\n",
    "\n",
    "\n",
    "f.close()"
   ]
  }
 ],
 "metadata": {
  "interpreter": {
   "hash": "916dbcbb3f70747c44a77c7bcd40155683ae19c65e1c03b4aa3499c5328201f1"
  },
  "kernelspec": {
   "display_name": "Python 3.8.10 64-bit",
   "language": "python",
   "name": "python3"
  },
  "language_info": {
   "codemirror_mode": {
    "name": "ipython",
    "version": 3
   },
   "file_extension": ".py",
   "mimetype": "text/x-python",
   "name": "python",
   "nbconvert_exporter": "python",
   "pygments_lexer": "ipython3",
   "version": "3.8.10"
  },
  "orig_nbformat": 4
 },
 "nbformat": 4,
 "nbformat_minor": 2
}
